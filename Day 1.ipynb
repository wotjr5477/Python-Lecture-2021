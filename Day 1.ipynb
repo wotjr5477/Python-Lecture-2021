{
 "cells": [
  {
   "cell_type": "code",
   "execution_count": 21,
   "id": "f527ac54",
   "metadata": {},
   "outputs": [],
   "source": [
    "# 210520"
   ]
  },
  {
   "cell_type": "code",
   "execution_count": 22,
   "id": "26995f90",
   "metadata": {},
   "outputs": [],
   "source": [
    "## 숫자형"
   ]
  },
  {
   "cell_type": "code",
   "execution_count": 1,
   "id": "a389fdcb",
   "metadata": {},
   "outputs": [],
   "source": [
    "# 재고 5\n",
    "# 3개 마다 1박스 구성가능\n",
    "# 출하 가능 박스 개수\n",
    "# 남은 재고 개수"
   ]
  },
  {
   "cell_type": "code",
   "execution_count": 10,
   "id": "1536e47b",
   "metadata": {},
   "outputs": [
    {
     "name": "stdout",
     "output_type": "stream",
     "text": [
      "출하 가능 : 1 개\n",
      "남은 재고 : 2 개\n"
     ]
    }
   ],
   "source": [
    "stock_current = 5\n",
    "package_size = 3\n",
    "box_avaiable = stock_current // package_size\n",
    "stock_current = stock_current % package_size\n",
    "\n",
    "print(\"출하 가능 :\", box_avaiable, \"개\")\n",
    "print(\"남은 재고 :\", stock_current, \"개\")"
   ]
  },
  {
   "cell_type": "code",
   "execution_count": null,
   "id": "7fdf7c5d",
   "metadata": {},
   "outputs": [],
   "source": [
    "## 문자열"
   ]
  },
  {
   "cell_type": "code",
   "execution_count": 16,
   "id": "973a3fd4",
   "metadata": {},
   "outputs": [
    {
     "ename": "SyntaxError",
     "evalue": "invalid syntax (<ipython-input-16-d7f0cf0c6fb0>, line 1)",
     "output_type": "error",
     "traceback": [
      "\u001b[1;36m  File \u001b[1;32m\"<ipython-input-16-d7f0cf0c6fb0>\"\u001b[1;36m, line \u001b[1;32m1\u001b[0m\n\u001b[1;33m    print(\"He said that \"I'm happy\")\u001b[0m\n\u001b[1;37m                         ^\u001b[0m\n\u001b[1;31mSyntaxError\u001b[0m\u001b[1;31m:\u001b[0m invalid syntax\n"
     ]
    }
   ],
   "source": [
    "print(\"He said that \"I'm happy\")"
   ]
  },
  {
   "cell_type": "code",
   "execution_count": 17,
   "id": "784f0c90",
   "metadata": {},
   "outputs": [
    {
     "ename": "SyntaxError",
     "evalue": "invalid syntax (<ipython-input-17-e3d03942aa41>, line 1)",
     "output_type": "error",
     "traceback": [
      "\u001b[1;36m  File \u001b[1;32m\"<ipython-input-17-e3d03942aa41>\"\u001b[1;36m, line \u001b[1;32m1\u001b[0m\n\u001b[1;33m    print('He said that \"I'm happy\"')\u001b[0m\n\u001b[1;37m                           ^\u001b[0m\n\u001b[1;31mSyntaxError\u001b[0m\u001b[1;31m:\u001b[0m invalid syntax\n"
     ]
    }
   ],
   "source": [
    "print('He said that \"I'm happy\"')"
   ]
  },
  {
   "cell_type": "code",
   "execution_count": 20,
   "id": "e4144249",
   "metadata": {},
   "outputs": [
    {
     "name": "stdout",
     "output_type": "stream",
     "text": [
      "He said that \"I'm happy\"\n"
     ]
    }
   ],
   "source": [
    "print(\"He said that \\\"I'm happy\\\"\")"
   ]
  },
  {
   "cell_type": "code",
   "execution_count": 23,
   "id": "b84aaeaf",
   "metadata": {},
   "outputs": [
    {
     "name": "stdout",
     "output_type": "stream",
     "text": [
      "\n",
      "He said that \"I'm happy\"\n",
      "\n"
     ]
    }
   ],
   "source": [
    "print(\"\"\"\n",
    "He said that \"I'm happy\"\n",
    "\"\"\")"
   ]
  },
  {
   "cell_type": "code",
   "execution_count": 27,
   "id": "b2f818e4",
   "metadata": {},
   "outputs": [
    {
     "name": "stdout",
     "output_type": "stream",
     "text": [
      "안녕하세요. 반준석님 만나서 반갑습니다.\n"
     ]
    }
   ],
   "source": [
    "greeting = \"안녕하세요. \"\n",
    "name = \"반준석\"\n",
    "greeting2 = \"님 만나서 반갑습니다.\"\n",
    "sentence1 = greeting +name + greeting2\n",
    "print(sentence1)"
   ]
  },
  {
   "cell_type": "code",
   "execution_count": 28,
   "id": "e17d2b89",
   "metadata": {},
   "outputs": [
    {
     "name": "stdout",
     "output_type": "stream",
     "text": [
      "안녕하세요.  반준석 님 만나서 반갑습니다.\n"
     ]
    }
   ],
   "source": [
    "greeting = \"안녕하세요. \"\n",
    "name = \"반준석\"\n",
    "greeting2 = \"님 만나서 반갑습니다.\"\n",
    "sentence1 = greeting +name + greeting2\n",
    "print(greeting, name, greeting2)"
   ]
  },
  {
   "cell_type": "code",
   "execution_count": 29,
   "id": "b7e67552",
   "metadata": {},
   "outputs": [
    {
     "name": "stdout",
     "output_type": "stream",
     "text": [
      "안녕하세요. 반준석님 만나서 반갑습니다.\n"
     ]
    }
   ],
   "source": [
    "greeting = \"안녕하세요. \"\n",
    "name = \"반준석\"\n",
    "greeting2 = \"님 만나서 반갑습니다.\"\n",
    "sentence1 = greeting +name + greeting2\n",
    "print(greeting +name + greeting2)"
   ]
  },
  {
   "cell_type": "code",
   "execution_count": 30,
   "id": "584d25d2",
   "metadata": {},
   "outputs": [
    {
     "name": "stdout",
     "output_type": "stream",
     "text": [
      "hellohello\n"
     ]
    }
   ],
   "source": [
    "print(\"hello\" *2)"
   ]
  },
  {
   "cell_type": "code",
   "execution_count": 36,
   "id": "1065491a",
   "metadata": {},
   "outputs": [
    {
     "data": {
      "text/plain": [
       "'hello'"
      ]
     },
     "execution_count": 36,
     "metadata": {},
     "output_type": "execute_result"
    }
   ],
   "source": [
    "a = \"hello\"\n",
    "a"
   ]
  },
  {
   "cell_type": "code",
   "execution_count": 34,
   "id": "f96cf27d",
   "metadata": {},
   "outputs": [
    {
     "data": {
      "text/plain": [
       "'hellohello'"
      ]
     },
     "execution_count": 34,
     "metadata": {},
     "output_type": "execute_result"
    }
   ],
   "source": [
    "a = \"hello\"\n",
    "a\n",
    "a*2"
   ]
  },
  {
   "cell_type": "code",
   "execution_count": 42,
   "id": "6328d9ea",
   "metadata": {},
   "outputs": [
    {
     "name": "stdout",
     "output_type": "stream",
     "text": [
      "hello\n",
      "hellohello\n"
     ]
    }
   ],
   "source": [
    "a = \"hello\"\n",
    "print(a)\n",
    "print(a*2)"
   ]
  },
  {
   "cell_type": "code",
   "execution_count": 61,
   "id": "f3cf5a72",
   "metadata": {},
   "outputs": [
    {
     "name": "stdout",
     "output_type": "stream",
     "text": [
      "안녕하세요. 반준석님 만나서 정말 정말 정말 정말 정말 정말 반갑습니다.\n"
     ]
    }
   ],
   "source": [
    "friendly = 6\n",
    "expression1 = \" 정말\"\n",
    "greeting2 = \"님 만나서\"\n",
    "greeting3 = \" 반갑습니다.\"\n",
    "sentence1 = greeting + name + greeting2\\\n",
    "+ expression1 * friendly + greeting3\n",
    "print(sentence1)"
   ]
  },
  {
   "cell_type": "code",
   "execution_count": 65,
   "id": "6e2bb4cd",
   "metadata": {},
   "outputs": [],
   "source": [
    "first_name = \"준석\"\n",
    "last_name = \"반\"\n",
    "if len(first_name) > 3:\n",
    "    print(\"이름 길이 초과 탐색\")\n",
    "if len(last_name) > 2:\n",
    "    print(\"성 길이 초과 탐색\")"
   ]
  },
  {
   "cell_type": "code",
   "execution_count": 66,
   "id": "5b32ee2f",
   "metadata": {},
   "outputs": [
    {
     "name": "stdout",
     "output_type": "stream",
     "text": [
      "성 길이 초과 탐색\n"
     ]
    }
   ],
   "source": [
    "first_name = \"준석\"\n",
    "last_name = \"제임스\"\n",
    "if len(first_name) > 3:\n",
    "    print(\"이름 길이 초과 탐색\")\n",
    "if len(last_name) > 2:\n",
    "    print(\"성 길이 초과 탐색\")"
   ]
  },
  {
   "cell_type": "code",
   "execution_count": 83,
   "id": "e3a6816e",
   "metadata": {},
   "outputs": [
    {
     "name": "stdout",
     "output_type": "stream",
     "text": [
      "성 길이 초과 탐색\n",
      "first_over_count : 0\n",
      "last_over_count : 1\n"
     ]
    }
   ],
   "source": [
    "first_name = \"준석\"\n",
    "last_name = \"제임스\"\n",
    "first_over_count = 0\n",
    "last_over_count = 0\n",
    "\n",
    "if len(first_name) > 3:\n",
    "    print(\"이름 길이 초과 탐색\")\n",
    "    first_over_count += 1\n",
    "if len(last_name) > 2:\n",
    "    print(\"성 길이 초과 탐색\")\n",
    "    last_over_count += 1\n",
    "print(\"first_over_count :\", str(first_over_count))\n",
    "print(\"last_over_count :\", str(last_over_count))"
   ]
  },
  {
   "cell_type": "code",
   "execution_count": null,
   "id": "9b965001",
   "metadata": {},
   "outputs": [],
   "source": []
  },
  {
   "cell_type": "code",
   "execution_count": null,
   "id": "ea366381",
   "metadata": {},
   "outputs": [],
   "source": []
  },
  {
   "cell_type": "code",
   "execution_count": null,
   "id": "f4908e09",
   "metadata": {},
   "outputs": [],
   "source": []
  },
  {
   "cell_type": "code",
   "execution_count": null,
   "id": "9510fdb3",
   "metadata": {},
   "outputs": [],
   "source": []
  },
  {
   "cell_type": "code",
   "execution_count": null,
   "id": "3aa3c025",
   "metadata": {},
   "outputs": [],
   "source": []
  },
  {
   "cell_type": "code",
   "execution_count": null,
   "id": "77cab4e1",
   "metadata": {},
   "outputs": [],
   "source": []
  },
  {
   "cell_type": "code",
   "execution_count": null,
   "id": "f77f500d",
   "metadata": {},
   "outputs": [],
   "source": []
  },
  {
   "cell_type": "code",
   "execution_count": null,
   "id": "2f7d8be6",
   "metadata": {},
   "outputs": [],
   "source": []
  },
  {
   "cell_type": "code",
   "execution_count": null,
   "id": "62bd6d17",
   "metadata": {},
   "outputs": [],
   "source": []
  },
  {
   "cell_type": "code",
   "execution_count": null,
   "id": "ff753ebe",
   "metadata": {},
   "outputs": [],
   "source": []
  },
  {
   "cell_type": "code",
   "execution_count": null,
   "id": "feb4645e",
   "metadata": {},
   "outputs": [],
   "source": []
  },
  {
   "cell_type": "code",
   "execution_count": null,
   "id": "41ff71aa",
   "metadata": {},
   "outputs": [],
   "source": []
  },
  {
   "cell_type": "code",
   "execution_count": null,
   "id": "909574dc",
   "metadata": {},
   "outputs": [],
   "source": []
  },
  {
   "cell_type": "code",
   "execution_count": null,
   "id": "b6563f49",
   "metadata": {},
   "outputs": [],
   "source": []
  },
  {
   "cell_type": "code",
   "execution_count": null,
   "id": "e56cb67d",
   "metadata": {},
   "outputs": [],
   "source": []
  },
  {
   "cell_type": "code",
   "execution_count": null,
   "id": "d457ff33",
   "metadata": {},
   "outputs": [],
   "source": []
  },
  {
   "cell_type": "code",
   "execution_count": null,
   "id": "77a92be7",
   "metadata": {},
   "outputs": [],
   "source": []
  },
  {
   "cell_type": "code",
   "execution_count": null,
   "id": "875b36da",
   "metadata": {},
   "outputs": [],
   "source": []
  },
  {
   "cell_type": "code",
   "execution_count": null,
   "id": "659c3772",
   "metadata": {},
   "outputs": [],
   "source": []
  },
  {
   "cell_type": "code",
   "execution_count": null,
   "id": "849d271f",
   "metadata": {},
   "outputs": [],
   "source": []
  },
  {
   "cell_type": "code",
   "execution_count": null,
   "id": "7f874eab",
   "metadata": {},
   "outputs": [],
   "source": []
  },
  {
   "cell_type": "code",
   "execution_count": null,
   "id": "559453fe",
   "metadata": {},
   "outputs": [],
   "source": []
  },
  {
   "cell_type": "code",
   "execution_count": null,
   "id": "cd225f39",
   "metadata": {},
   "outputs": [],
   "source": []
  },
  {
   "cell_type": "code",
   "execution_count": null,
   "id": "6bbfcf02",
   "metadata": {},
   "outputs": [],
   "source": []
  },
  {
   "cell_type": "code",
   "execution_count": null,
   "id": "28944875",
   "metadata": {},
   "outputs": [],
   "source": []
  },
  {
   "cell_type": "code",
   "execution_count": null,
   "id": "16e81a26",
   "metadata": {},
   "outputs": [],
   "source": []
  },
  {
   "cell_type": "code",
   "execution_count": null,
   "id": "995201a0",
   "metadata": {},
   "outputs": [],
   "source": []
  },
  {
   "cell_type": "code",
   "execution_count": null,
   "id": "cbc838a9",
   "metadata": {},
   "outputs": [],
   "source": []
  },
  {
   "cell_type": "code",
   "execution_count": null,
   "id": "d28c120e",
   "metadata": {},
   "outputs": [],
   "source": []
  },
  {
   "cell_type": "code",
   "execution_count": null,
   "id": "cb0969b6",
   "metadata": {},
   "outputs": [],
   "source": []
  },
  {
   "cell_type": "code",
   "execution_count": null,
   "id": "f8c6e7a3",
   "metadata": {},
   "outputs": [],
   "source": []
  },
  {
   "cell_type": "code",
   "execution_count": null,
   "id": "fb6246fc",
   "metadata": {},
   "outputs": [],
   "source": []
  },
  {
   "cell_type": "code",
   "execution_count": null,
   "id": "1a1d23ce",
   "metadata": {},
   "outputs": [],
   "source": []
  },
  {
   "cell_type": "code",
   "execution_count": null,
   "id": "4b7a769b",
   "metadata": {},
   "outputs": [],
   "source": []
  },
  {
   "cell_type": "code",
   "execution_count": null,
   "id": "f0a6b445",
   "metadata": {},
   "outputs": [],
   "source": []
  },
  {
   "cell_type": "code",
   "execution_count": null,
   "id": "8031c3e5",
   "metadata": {},
   "outputs": [],
   "source": []
  },
  {
   "cell_type": "code",
   "execution_count": null,
   "id": "d7d521a7",
   "metadata": {},
   "outputs": [],
   "source": []
  },
  {
   "cell_type": "code",
   "execution_count": null,
   "id": "48dc937e",
   "metadata": {},
   "outputs": [],
   "source": []
  },
  {
   "cell_type": "code",
   "execution_count": null,
   "id": "3dbbcab1",
   "metadata": {},
   "outputs": [],
   "source": []
  },
  {
   "cell_type": "code",
   "execution_count": null,
   "id": "b10cd71a",
   "metadata": {},
   "outputs": [],
   "source": []
  },
  {
   "cell_type": "code",
   "execution_count": 32,
   "id": "349bb65c",
   "metadata": {},
   "outputs": [
    {
     "data": {
      "text/plain": [
       "'hello'"
      ]
     },
     "execution_count": 32,
     "metadata": {},
     "output_type": "execute_result"
    }
   ],
   "source": []
  },
  {
   "cell_type": "code",
   "execution_count": null,
   "id": "adfb4b72",
   "metadata": {},
   "outputs": [],
   "source": []
  },
  {
   "cell_type": "code",
   "execution_count": null,
   "id": "6f973d8f",
   "metadata": {},
   "outputs": [],
   "source": []
  },
  {
   "cell_type": "code",
   "execution_count": null,
   "id": "49f0d171",
   "metadata": {},
   "outputs": [],
   "source": []
  },
  {
   "cell_type": "code",
   "execution_count": null,
   "id": "5078c2c0",
   "metadata": {},
   "outputs": [],
   "source": []
  },
  {
   "cell_type": "code",
   "execution_count": null,
   "id": "94d0d90b",
   "metadata": {},
   "outputs": [],
   "source": []
  },
  {
   "cell_type": "code",
   "execution_count": null,
   "id": "1eb45745",
   "metadata": {},
   "outputs": [],
   "source": []
  },
  {
   "cell_type": "code",
   "execution_count": null,
   "id": "202572f0",
   "metadata": {},
   "outputs": [],
   "source": []
  },
  {
   "cell_type": "code",
   "execution_count": null,
   "id": "d9d4769e",
   "metadata": {},
   "outputs": [],
   "source": []
  },
  {
   "cell_type": "code",
   "execution_count": null,
   "id": "c3131f1d",
   "metadata": {},
   "outputs": [],
   "source": []
  },
  {
   "cell_type": "code",
   "execution_count": null,
   "id": "bc1a8a3a",
   "metadata": {},
   "outputs": [],
   "source": []
  },
  {
   "cell_type": "code",
   "execution_count": null,
   "id": "f559374a",
   "metadata": {},
   "outputs": [],
   "source": []
  },
  {
   "cell_type": "code",
   "execution_count": null,
   "id": "8ef5b70e",
   "metadata": {},
   "outputs": [],
   "source": []
  },
  {
   "cell_type": "code",
   "execution_count": null,
   "id": "7b4e3eed",
   "metadata": {},
   "outputs": [],
   "source": []
  },
  {
   "cell_type": "code",
   "execution_count": null,
   "id": "13cca02f",
   "metadata": {},
   "outputs": [],
   "source": []
  },
  {
   "cell_type": "code",
   "execution_count": null,
   "id": "c8391601",
   "metadata": {},
   "outputs": [],
   "source": []
  },
  {
   "cell_type": "code",
   "execution_count": null,
   "id": "2cd01412",
   "metadata": {},
   "outputs": [],
   "source": []
  }
 ],
 "metadata": {
  "kernelspec": {
   "display_name": "Python 3",
   "language": "python",
   "name": "python3"
  },
  "language_info": {
   "codemirror_mode": {
    "name": "ipython",
    "version": 3
   },
   "file_extension": ".py",
   "mimetype": "text/x-python",
   "name": "python",
   "nbconvert_exporter": "python",
   "pygments_lexer": "ipython3",
   "version": "3.8.8"
  }
 },
 "nbformat": 4,
 "nbformat_minor": 5
}
