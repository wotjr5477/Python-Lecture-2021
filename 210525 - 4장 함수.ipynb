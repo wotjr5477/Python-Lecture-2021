{
 "cells": [
  {
   "cell_type": "code",
   "execution_count": null,
   "id": "da61f113",
   "metadata": {},
   "outputs": [],
   "source": [
    "# 파이썬 함수 구조\n",
    "def hello_5():\n",
    "    print(\"안녕하세요1\")\n",
    "    print(\"안녕하세요2\")\n",
    "    print(\"안녕하세요3\")\n",
    "    print(\"안녕하세요4\")\n",
    "    print(\"안녕하세요5\")\n",
    "\n",
    "hello_5()\n",
    "hello_5()\n",
    "hello_5()"
   ]
  },
  {
   "cell_type": "code",
   "execution_count": null,
   "id": "c140e53f",
   "metadata": {},
   "outputs": [],
   "source": [
    "def add(a, b):\n",
    "    c = a + b\n",
    "    return c\n",
    "    print(c)\n",
    "num1 = int(input(\"숫자 1:\"))\n",
    "num2 = int(input(\"숫자 2:\"))\n",
    "result = (num1 + num2)\n",
    "result = (num1 + num2)\n",
    "print(result)"
   ]
  },
  {
   "cell_type": "code",
   "execution_count": null,
   "id": "9d194769",
   "metadata": {},
   "outputs": [],
   "source": [
    "print(result)\n",
    "\n",
    "def say_hi():\n",
    "    return \"hi\"\n",
    "print(say_hi())\n",
    "\n",
    "\n",
    "def say_hi_dont_care():\n",
    "    print(\"hi\")\n",
    "say_hi_dont_care()\n",
    "\n",
    "# none이 출력되는 경우\n",
    "def say_hi_dont_care2(a):\n",
    "    print(a)\n",
    "b = say_hi_dont_care2(\"hi\")    \n",
    "print(b) # none = 그냥 값이 없는 경우임. #'False'랑은 다른 경우임.\n"
   ]
  },
  {
   "cell_type": "code",
   "execution_count": null,
   "id": "47b77ae2",
   "metadata": {},
   "outputs": [],
   "source": [
    "def add_many(*a):\n",
    "    result=0\n",
    "    for item in a:\n",
    "        result+=item\n",
    "    return result\n",
    "print(add_many(1, 2))\n",
    "print(add_many(1, 2, 3, 4))\n",
    "\n",
    "    "
   ]
  },
  {
   "cell_type": "code",
   "execution_count": null,
   "id": "2f5835e6",
   "metadata": {},
   "outputs": [],
   "source": [
    "def add_many(*a, mode):\n",
    "    if mode ==\"sum\":\n",
    "        result=0\n",
    "        for item in a: result+=item\n",
    "    elif mode ==\"mul\":\n",
    "        result=1\n",
    "        for item in a: result+=item\n",
    "    return result\n",
    "print(add_many(1, 2, \"sum\"))\n",
    "print(add_many(1, 2, 3, 4, \"mul\"))\n",
    "\n",
    "###\n"
   ]
  },
  {
   "cell_type": "code",
   "execution_count": null,
   "id": "415694b2",
   "metadata": {},
   "outputs": [],
   "source": [
    "def add_many(mode, *a):\n",
    "    if mode ==\"sum\":\n",
    "        result=0\n",
    "        for item in a: result+=item\n",
    "    elif mode ==\"mul\":\n",
    "        result=1\n",
    "        for item in a: result+=item\n",
    "    return result\n",
    "print(add_many(\"sum\", 1, 2))\n",
    "print(add_many(\"mul\", 1, 2, 3, 4))\n"
   ]
  },
  {
   "cell_type": "code",
   "execution_count": null,
   "id": "05eb876d",
   "metadata": {},
   "outputs": [],
   "source": [
    "# 딕셔너리 처리\n",
    "def print_kwa(**a): # 별두개로 확장처리\n",
    "    print(a)\n",
    "print_kwa(a=1)"
   ]
  },
  {
   "cell_type": "code",
   "execution_count": null,
   "id": "3b50b463",
   "metadata": {},
   "outputs": [],
   "source": [
    "# 함수의 결과값은 언제나 하나이다? = 아니다. 여러개일 수 있다. P.159\n",
    "def add_and_mul(a,b):\n",
    "    return a+b, a*b\n",
    "add_and_mul(3,4)"
   ]
  },
  {
   "cell_type": "code",
   "execution_count": null,
   "id": "6a9b3368",
   "metadata": {},
   "outputs": [],
   "source": [
    "c, d = add_and_mul(1, 2)\n",
    "print(\"c:\"+str(c)+\", d:\"+str(d))\n",
    "c = add2(1, 2)\n",
    "print(c)"
   ]
  },
  {
   "cell_type": "code",
   "execution_count": null,
   "id": "b0afe45c",
   "metadata": {},
   "outputs": [],
   "source": [
    "def my_classify(a, b, c=1, d=2):\n",
    "    print(a,b,c,d)\n",
    "my_classify(2, 3)\n",
    "my_classify(2, 3, 4)\n",
    "my_classify(2, 3, 4, 5)\n"
   ]
  },
  {
   "cell_type": "code",
   "execution_count": null,
   "id": "b1289e76",
   "metadata": {},
   "outputs": [],
   "source": [
    "# 함수 안에서 선언한 변수의 효력 범위 p.164\n",
    "# vartest.py\n",
    "a = 1 # 함수 밖의 변수 a\n",
    "def vartest(a):\n",
    "    a = a + 1\n",
    "vartest(a) # vartet 함수의 입력값으로 a를 줌\n",
    "print(a) # a 값 출력"
   ]
  },
  {
   "cell_type": "code",
   "execution_count": null,
   "id": "4a2e18d1",
   "metadata": {},
   "outputs": [],
   "source": [
    "### 값 출력 문자열 표현\n",
    "\n",
    "\n",
    "print(\"a\", \"b\")\n",
    "print(\"a\"+\"b \"+\"c\")\n",
    "print(\"a\" \"b\")\n",
    "print(\"a\")\n",
    "\n",
    "print(\"a\", end=\" \")\n",
    "print(\"b\")\n",
    "\n",
    "\n",
    "# 세퍼레이터 지정\n",
    "print(\"a\", \"b\", \"c\")\n",
    "print(\"a\", \"b\", \"c\", sep=\"/\")"
   ]
  },
  {
   "cell_type": "code",
   "execution_count": null,
   "id": "b94b4a80",
   "metadata": {},
   "outputs": [],
   "source": [
    "# 파일 읽고 쓰기 p.171\n",
    "#f = open(\"새파일.txt\", \"r\") # 읽기모드\n",
    "f = open(\"새파일.txt\", \"w\") # 쓰기모드\n",
    "f.close()\n",
    "#f = open(\"새파일.txt\", \"a\") # 추가모드\n",
    "\n"
   ]
  },
  {
   "cell_type": "code",
   "execution_count": null,
   "id": "e05b82bb",
   "metadata": {},
   "outputs": [],
   "source": [
    "# 파일을 쓰기 모드로 열어 출력값 적기\n",
    "# writedata.py\n",
    "f = open(\"C:/Users/CPB06GameN/myjupiterfiles/쓰기파일.txt\", \"w\")\n",
    "for i in range(1, 11):\n",
    "    data = \"%d번째 줄 입니다. \\n\" % i\n",
    "    f.write(data)\n",
    "f.close()"
   ]
  },
  {
   "cell_type": "code",
   "execution_count": null,
   "id": "ec1d7fd7",
   "metadata": {},
   "outputs": [],
   "source": [
    "# 파일 읽어오기\n",
    "f = open(\"C:/Users/CPB06GameN/myjupiterfiles/쓰기파일.txt\", \"r\")\n",
    "line1 = f.readline()\n",
    "print(line1)\n",
    "f.close()"
   ]
  },
  {
   "cell_type": "code",
   "execution_count": 20,
   "id": "4ca970ae",
   "metadata": {},
   "outputs": [
    {
     "name": "stdout",
     "output_type": "stream",
     "text": [
      "1번째 줄 입니다. \n",
      " 2번째 줄 입니다. \n",
      " 3번째 줄 입니다. \n",
      " 4번째 줄 입니다. \n",
      " 5번째 줄 입니다. \n",
      " 6번째 줄 입니다. \n",
      " 7번째 줄 입니다. \n",
      " 8번째 줄 입니다. \n",
      " 9번째 줄 입니다. \n",
      " 10번째 줄 입니다. \n",
      "  \n",
      " 1번째 줄 입니다. 2번째 줄 입니다. 3번째 줄 입니다. 4번째 줄 입니다. 5번째 줄 입니다. 6번째 줄 입니다. 7번째 줄 입니다. 8번째 줄 입니다. 9번째 줄 입니다. 10번째 줄 입니다.  ['1번째 줄 입니다. ', '2번째 줄 입니다. ', '3번째 줄 입니다. ', '4번째 줄 입니다. ', '5번째 줄 입니다. ', '6번째 줄 입니다. ', '7번째 줄 입니다. ', '8번째 줄 입니다. ', '9번째 줄 입니다. ', '10번째 줄 입니다. ', ' ']\n"
     ]
    }
   ],
   "source": [
    "# 모든 줄을 출력하고자 할 경우\n",
    "f = open(\"C:/Users/CPB06GameN/myjupiterfiles/쓰기파일.txt\", \"r\")\n",
    "list1=[]\n",
    "list2=[]\n",
    "while True:\n",
    "    line1 = f.readline()\n",
    "    if not line1: break\n",
    "    print(line1, end=\" \")\n",
    "    list1.append(line1)\n",
    "f.close()\n",
    "for item in list1:\n",
    "    processed = item.replace(\"\\n\", \"\")\n",
    "    print(processed,end=\"\")\n",
    "    list2.append(processed)\n",
    "print(list2)"
   ]
  },
  {
   "cell_type": "code",
   "execution_count": 34,
   "id": "77a27559",
   "metadata": {},
   "outputs": [
    {
     "name": "stdout",
     "output_type": "stream",
     "text": [
      "['1번째 줄 입니다. \\n', '2번째 줄 입니다. \\n', '3번째 줄 입니다. \\n', '4번째 줄 입니다. \\n', '5번째 줄 입니다. \\n', '6번째 줄 입니다. \\n', '7번째 줄 입니다. \\n', '8번째 줄 입니다. \\n', '9번째 줄 입니다. \\n', '10번째 줄 입니다. \\n', ' \\n']\n",
      "['1번째 줄 입니다.', '2번째 줄 입니다.', '3번째 줄 입니다.', '4번째 줄 입니다.', '5번째 줄 입니다.', '6번째 줄 입니다.', '7번째 줄 입니다.', '8번째 줄 입니다.', '9번째 줄 입니다.', '10번째 줄 입니다.', '']\n"
     ]
    }
   ],
   "source": [
    "# 모든줄을 한번에 로드하려고 할 때는 readlines\n",
    "f = open(\"C:/Users/CPB06GameN/myjupiterfiles/쓰기파일.txt\", \"r\")\n",
    "lines = f.readlines()\n",
    "print(lines)\n",
    "refined_list = [] # 뒤에 \\n정리\n",
    "for item in lines:\n",
    "    refined_list.append(item.replace(\" \\n\", \"\"))\n",
    "print(refined_list)"
   ]
  },
  {
   "cell_type": "code",
   "execution_count": 51,
   "id": "f7d1f769",
   "metadata": {},
   "outputs": [
    {
     "name": "stdout",
     "output_type": "stream",
     "text": [
      "['1번째 줄 입니다.', '2번째 줄 입니다.', '3번째 줄 입니다.', '4번째 줄 입니다.', '5번째 줄 입니다.', '6번째 줄 입니다.', '7번째 줄 입니다.', '8번째 줄 입니다.', '9번째 줄 입니다.', '10번째 줄 입니다.', '', '']\n"
     ]
    }
   ],
   "source": [
    "# read함수 사용\n",
    "f = open(\"C:/Users/CPB06GameN/myjupiterfiles/쓰기파일.txt\", \"r\")\n",
    "page = f.read()\n",
    "f.close()\n",
    "refined_list = page.split(\" \\n\")\n",
    "print(refined_list)\n",
    "# ['abc', 'def', 'ghj']"
   ]
  },
  {
   "cell_type": "code",
   "execution_count": null,
   "id": "3dc8644d",
   "metadata": {},
   "outputs": [],
   "source": []
  }
 ],
 "metadata": {
  "kernelspec": {
   "display_name": "Python 3",
   "language": "python",
   "name": "python3"
  },
  "language_info": {
   "codemirror_mode": {
    "name": "ipython",
    "version": 3
   },
   "file_extension": ".py",
   "mimetype": "text/x-python",
   "name": "python",
   "nbconvert_exporter": "python",
   "pygments_lexer": "ipython3",
   "version": "3.8.10"
  }
 },
 "nbformat": 4,
 "nbformat_minor": 5
}
