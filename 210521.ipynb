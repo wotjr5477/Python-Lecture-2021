{
 "cells": [
  {
   "cell_type": "code",
   "execution_count": 2,
   "id": "0ed2d875",
   "metadata": {},
   "outputs": [],
   "source": [
    "a = \"Life is ~~~\""
   ]
  },
  {
   "cell_type": "code",
   "execution_count": 3,
   "id": "eaa5c8db",
   "metadata": {},
   "outputs": [],
   "source": [
    "a1 = a[0:4]"
   ]
  },
  {
   "cell_type": "code",
   "execution_count": 4,
   "id": "d3d1c216",
   "metadata": {},
   "outputs": [],
   "source": [
    "a2 = a[0:5]"
   ]
  },
  {
   "cell_type": "code",
   "execution_count": 6,
   "id": "e4cbbd65",
   "metadata": {},
   "outputs": [
    {
     "name": "stdout",
     "output_type": "stream",
     "text": [
      "다르다\n"
     ]
    }
   ],
   "source": [
    "if a1 == a2:\n",
    "    print(\"같다\")\n",
    "else:\n",
    "    print(\"다르다\")"
   ]
  },
  {
   "cell_type": "code",
   "execution_count": 11,
   "id": "348ebea6",
   "metadata": {},
   "outputs": [
    {
     "name": "stdout",
     "output_type": "stream",
     "text": [
      "Life 4\n",
      "Life  5\n"
     ]
    }
   ],
   "source": [
    "print(a1, len(a1))\n",
    "print(a2, len(a2))"
   ]
  },
  {
   "cell_type": "code",
   "execution_count": 12,
   "id": "edf77241",
   "metadata": {},
   "outputs": [],
   "source": [
    "a= \"  hi  \""
   ]
  },
  {
   "cell_type": "code",
   "execution_count": 14,
   "id": "e21c5726",
   "metadata": {},
   "outputs": [
    {
     "data": {
      "text/plain": [
       "'hi'"
      ]
     },
     "execution_count": 14,
     "metadata": {},
     "output_type": "execute_result"
    }
   ],
   "source": [
    "a.strip()"
   ]
  },
  {
   "cell_type": "code",
   "execution_count": 16,
   "id": "f0526b7a",
   "metadata": {},
   "outputs": [
    {
     "data": {
      "text/plain": [
       "'You need Python'"
      ]
     },
     "execution_count": 16,
     "metadata": {},
     "output_type": "execute_result"
    }
   ],
   "source": [
    "a = \"LIfe is too short, You need Python\"\n",
    "a[19:]"
   ]
  },
  {
   "cell_type": "code",
   "execution_count": 46,
   "id": "36131750",
   "metadata": {},
   "outputs": [],
   "source": [
    "words1 = \"자두, 딸기, 바나나, 수박\""
   ]
  },
  {
   "cell_type": "code",
   "execution_count": 47,
   "id": "89a3c713",
   "metadata": {},
   "outputs": [
    {
     "name": "stdout",
     "output_type": "stream",
     "text": [
      "딸기,\n",
      "\n"
     ]
    }
   ],
   "source": [
    "bananaFromWords1 = words1[4:7]\n",
    "print(bananaFromWords1)\n",
    "bananaFromWords2 = words1[9:1]\n",
    "print(bananaFromWords2)"
   ]
  },
  {
   "cell_type": "code",
   "execution_count": 61,
   "id": "83c72f96",
   "metadata": {},
   "outputs": [
    {
     "name": "stdout",
     "output_type": "stream",
     "text": [
      "바나나\n"
     ]
    }
   ],
   "source": [
    "wordToFind = \"바나나\"\n",
    "indexOfBanana = words1.find(wordToFind)\n",
    "bananaFromWords1 = words1[indexOfBanana:indexOfBanana+len(wordToFind)]\n",
    "print(bananaFromWords1)\n",
    "\n"
   ]
  },
  {
   "cell_type": "code",
   "execution_count": 35,
   "id": "afd26ff6",
   "metadata": {},
   "outputs": [
    {
     "name": "stdout",
     "output_type": "stream",
     "text": [
      "박\n"
     ]
    }
   ],
   "source": [
    "wmFromWords1 = words1[10:]\n",
    "print(wmFromWords1)"
   ]
  },
  {
   "cell_type": "code",
   "execution_count": 64,
   "id": "2e37ae07",
   "metadata": {},
   "outputs": [],
   "source": [
    "a = \"pithon\""
   ]
  },
  {
   "cell_type": "code",
   "execution_count": 66,
   "id": "4fb7fdd2",
   "metadata": {},
   "outputs": [
    {
     "data": {
      "text/plain": [
       "'p'"
      ]
     },
     "execution_count": 66,
     "metadata": {},
     "output_type": "execute_result"
    }
   ],
   "source": [
    "a[:1]"
   ]
  },
  {
   "cell_type": "markdown",
   "id": "a79d529c",
   "metadata": {},
   "source": [
    "# "
   ]
  },
  {
   "cell_type": "code",
   "execution_count": 68,
   "id": "c21dafde",
   "metadata": {},
   "outputs": [
    {
     "data": {
      "text/plain": [
       "'thon'"
      ]
     },
     "execution_count": 68,
     "metadata": {},
     "output_type": "execute_result"
    }
   ],
   "source": [
    "a[2:]"
   ]
  },
  {
   "cell_type": "code",
   "execution_count": 70,
   "id": "67a1cf8b",
   "metadata": {},
   "outputs": [
    {
     "data": {
      "text/plain": [
       "'python'"
      ]
     },
     "execution_count": 70,
     "metadata": {},
     "output_type": "execute_result"
    }
   ],
   "source": [
    "a[:1] + 'y' + a[2:]"
   ]
  },
  {
   "cell_type": "code",
   "execution_count": 77,
   "id": "4232ec52",
   "metadata": {},
   "outputs": [
    {
     "name": "stdout",
     "output_type": "stream",
     "text": [
      "Life \n"
     ]
    }
   ],
   "source": [
    "a = a2\n",
    "print (a2)"
   ]
  },
  {
   "cell_type": "code",
   "execution_count": null,
   "id": "5d997a10",
   "metadata": {},
   "outputs": [],
   "source": []
  },
  {
   "cell_type": "code",
   "execution_count": 79,
   "id": "0787a5e9",
   "metadata": {},
   "outputs": [
    {
     "data": {
      "text/plain": [
       "'I eat 3 apples.'"
      ]
     },
     "execution_count": 79,
     "metadata": {},
     "output_type": "execute_result"
    }
   ],
   "source": [
    "\"I eat %d apples.\" % 3\n"
   ]
  },
  {
   "cell_type": "code",
   "execution_count": 81,
   "id": "28c526e9",
   "metadata": {},
   "outputs": [
    {
     "data": {
      "text/plain": [
       "'I eat five apples.'"
      ]
     },
     "execution_count": 81,
     "metadata": {},
     "output_type": "execute_result"
    }
   ],
   "source": [
    "\"I eat %s apples.\"% \"five\""
   ]
  },
  {
   "cell_type": "code",
   "execution_count": 83,
   "id": "e3c83677",
   "metadata": {},
   "outputs": [
    {
     "data": {
      "text/plain": [
       "' I eat 3 apples.'"
      ]
     },
     "execution_count": 83,
     "metadata": {},
     "output_type": "execute_result"
    }
   ],
   "source": [
    "number = 3\n",
    "\" I eat %d apples.\" % number"
   ]
  },
  {
   "cell_type": "raw",
   "id": "ff623cdb",
   "metadata": {},
   "source": [
    "number = 10\n",
    "day = \"three\"\n",
    "\"I ate %d apples. so I was sick for %s days.\" % (number, day)"
   ]
  },
  {
   "cell_type": "code",
   "execution_count": 101,
   "id": "e7a60b41",
   "metadata": {},
   "outputs": [
    {
     "name": "stdout",
     "output_type": "stream",
     "text": [
      "Index\tName\tMajor1\tHowManyPhone\n",
      "1\t서호준\tIT\t12000000000\n",
      "2\t김한남\tBT\t3000000000\n"
     ]
    }
   ],
   "source": [
    "name1 = \"서호준\"; major1 = \"IT\"; howManyPhone1 = 12000000000\n",
    "name2 = \"김한남\"; major2 = \"BT\"; howManyPhone2 = 3000000000\n",
    "\n",
    "print(\"Index\\t\"+\"Name\"+\"\\t\"+\"Major1\"+\"\\t\"+\"HowManyPhone\")\n",
    "print(\"1\\t\"+name1+\"\\t\"+major1+\"\\t\"+\"\"+str(howManyPhone1))\n",
    "print(\"2\\t\"+name2+\"\\t\"+major2+\"\\t\"+\"\"+str(howManyPhone2))"
   ]
  },
  {
   "cell_type": "code",
   "execution_count": 104,
   "id": "7a6e9593",
   "metadata": {},
   "outputs": [
    {
     "name": "stdout",
     "output_type": "stream",
     "text": [
      "%s120\n",
      "120\n",
      "       120\n",
      "    120000\n"
     ]
    }
   ],
   "source": [
    "print(\"%s\" \"120\")\n",
    "print(\"%s\" % \"120\")\n",
    "print(\"%10s\" % \"120\")\n",
    "print(\"%10s\" % \"120000\")"
   ]
  },
  {
   "cell_type": "code",
   "execution_count": 107,
   "id": "bc65ea94",
   "metadata": {},
   "outputs": [
    {
     "name": "stdout",
     "output_type": "stream",
     "text": [
      "hi        jame\n"
     ]
    }
   ],
   "source": [
    "print(\"%-10sjame\" % \"hi\")"
   ]
  },
  {
   "cell_type": "code",
   "execution_count": 109,
   "id": "67466181",
   "metadata": {},
   "outputs": [
    {
     "name": "stdout",
     "output_type": "stream",
     "text": [
      "3.4211\n"
     ]
    }
   ],
   "source": [
    "print(\"%0.4f\" % 3.42114234)\n"
   ]
  },
  {
   "cell_type": "code",
   "execution_count": 112,
   "id": "01ddf421",
   "metadata": {},
   "outputs": [
    {
     "name": "stdout",
     "output_type": "stream",
     "text": [
      "    3.4213\n"
     ]
    }
   ],
   "source": [
    "print(\"%10.4f\" % 3.42134234)"
   ]
  },
  {
   "cell_type": "code",
   "execution_count": 115,
   "id": "203666e0",
   "metadata": {},
   "outputs": [
    {
     "data": {
      "text/plain": [
       "'120'"
      ]
     },
     "execution_count": 115,
     "metadata": {},
     "output_type": "execute_result"
    }
   ],
   "source": [
    "\"~~~~~~[name]~~~~~~~~~~~~~~~~[howMany]~~~~~~~~~~~[howMany]~~~~~~~\".format(name = \"호준\", howMany = 2)\n",
    "\"{0}\".format(\"120\")"
   ]
  },
  {
   "cell_type": "code",
   "execution_count": 118,
   "id": "7767163e",
   "metadata": {},
   "outputs": [
    {
     "data": {
      "text/plain": [
       "'120       '"
      ]
     },
     "execution_count": 118,
     "metadata": {},
     "output_type": "execute_result"
    }
   ],
   "source": [
    "\"{0:<10}\".format(\"120\")"
   ]
  },
  {
   "cell_type": "code",
   "execution_count": 119,
   "id": "da23b3b6",
   "metadata": {},
   "outputs": [
    {
     "data": {
      "text/plain": [
       "'       120'"
      ]
     },
     "execution_count": 119,
     "metadata": {},
     "output_type": "execute_result"
    }
   ],
   "source": [
    "\"{0:>10}\".format(\"120\")"
   ]
  },
  {
   "cell_type": "code",
   "execution_count": 121,
   "id": "b9fe9df3",
   "metadata": {},
   "outputs": [
    {
     "data": {
      "text/plain": [
       "'   120    '"
      ]
     },
     "execution_count": 121,
     "metadata": {},
     "output_type": "execute_result"
    }
   ],
   "source": [
    "\"{0:^10}\".format(\"120\")"
   ]
  },
  {
   "cell_type": "code",
   "execution_count": 124,
   "id": "bc1722c6",
   "metadata": {},
   "outputs": [
    {
     "data": {
      "text/plain": [
       "'_______120'"
      ]
     },
     "execution_count": 124,
     "metadata": {},
     "output_type": "execute_result"
    }
   ],
   "source": [
    "\"{0:_>10}\".format(\"120\")"
   ]
  },
  {
   "cell_type": "code",
   "execution_count": null,
   "id": "e0bde399",
   "metadata": {},
   "outputs": [],
   "source": []
  },
  {
   "cell_type": "code",
   "execution_count": 125,
   "id": "fa710170",
   "metadata": {},
   "outputs": [
    {
     "data": {
      "text/plain": [
       "3"
      ]
     },
     "execution_count": 125,
     "metadata": {},
     "output_type": "execute_result"
    }
   ],
   "source": [
    "\"내가 가장 좋아하는 바나나는 크기가 큰 바나나 입니다. 왜나면 작은 바나나는\\ 같은 무게를 사도 껍질로 다 버려져요\".count(\"바나나\")"
   ]
  },
  {
   "cell_type": "code",
   "execution_count": 127,
   "id": "ea6549dd",
   "metadata": {},
   "outputs": [
    {
     "data": {
      "text/plain": [
       "'abc,drf,ghi'"
      ]
     },
     "execution_count": 127,
     "metadata": {},
     "output_type": "execute_result"
    }
   ],
   "source": [
    "\",\".join([\"abc\", \"drf\", \"ghi\"])"
   ]
  },
  {
   "cell_type": "code",
   "execution_count": 132,
   "id": "ebc4f1f7",
   "metadata": {},
   "outputs": [
    {
     "data": {
      "text/plain": [
       "'010-1234-5678'"
      ]
     },
     "execution_count": 132,
     "metadata": {},
     "output_type": "execute_result"
    }
   ],
   "source": [
    "#숫자만으로 저장된 전화 번호를 DB에서 얻었다 010 1234 5678 이 번호를 -로 연결하자.\n",
    "num=\"010\",\"1234\",\"5678\"\n",
    "\"-\".join(num)"
   ]
  },
  {
   "cell_type": "code",
   "execution_count": 135,
   "id": "9479b7e6",
   "metadata": {},
   "outputs": [
    {
     "name": "stdout",
     "output_type": "stream",
     "text": [
      "I love peach. because peach is so sweet.\n"
     ]
    }
   ],
   "source": [
    "a = \"I love apple. because apple is so sweet.\"\n",
    "b = a.replace(\"apple\", \"peach\")\n",
    "print(b)\n"
   ]
  },
  {
   "cell_type": "code",
   "execution_count": 139,
   "id": "69cf0aba",
   "metadata": {},
   "outputs": [
    {
     "name": "stdout",
     "output_type": "stream",
     "text": [
      "01012345678\n"
     ]
    }
   ],
   "source": [
    "# '010-1234-5678'  -->  '01012345678'\n",
    "a = '010-1234-5678'\n",
    "b = a.replace('-','')\n",
    "print(b)"
   ]
  },
  {
   "cell_type": "code",
   "execution_count": 144,
   "id": "d62bb3f8",
   "metadata": {},
   "outputs": [
    {
     "name": "stdout",
     "output_type": "stream",
     "text": [
      "Life is too short\n",
      "a:b:c:d\n"
     ]
    }
   ],
   "source": [
    "# 문자열 나누기\n",
    "a = \"Life is too short\"\n",
    "a.split()\n",
    "print(a)\n",
    "b = \"a:b:c:d\"\n",
    "b.split(\":\")\n",
    "print(b)"
   ]
  },
  {
   "cell_type": "code",
   "execution_count": 145,
   "id": "b63d6f0f",
   "metadata": {},
   "outputs": [
    {
     "name": "stdout",
     "output_type": "stream",
     "text": [
      "식별번호: 010 , 국번 1234 , 개인번호 5678\n"
     ]
    }
   ],
   "source": [
    "# .split된 문자열에서 인덱스넘버로 스플릿된 배열 호출하기\n",
    "# '010-1234-5678' --> ['010','1234','5678']\n",
    "a = '010-1234-5678'\n",
    "b = a.split(\"-\")\n",
    "print(\"식별번호:\",b[0], \", 국번\",b[1], \", 개인번호\",b[2])\n"
   ]
  },
  {
   "cell_type": "code",
   "execution_count": 151,
   "id": "7f75f311",
   "metadata": {},
   "outputs": [
    {
     "name": "stdout",
     "output_type": "stream",
     "text": [
      "[]\n",
      "[1, 2, [3, 4]]\n",
      "3\n",
      "1\n",
      "[3, 4]\n",
      "4\n"
     ]
    }
   ],
   "source": [
    "a = []\n",
    "print(a)\n",
    "e = [1, 2, [3, 4]]\n",
    "print(e)\n",
    "print(len(e))\n",
    "print(e[0])\n",
    "print(e[2])\n",
    "print(e[2][1])"
   ]
  },
  {
   "cell_type": "code",
   "execution_count": 157,
   "id": "fd4e61da",
   "metadata": {},
   "outputs": [
    {
     "name": "stdout",
     "output_type": "stream",
     "text": [
      "b\n",
      "[1, 2, 4]\n"
     ]
    }
   ],
   "source": [
    "str1 = \"abc\"\n",
    "print(str1[1])\n",
    "#str1[2] = \"d\"\n",
    "a = [1, 2, 3]\n",
    "a[2] = 4\n",
    "print(a)"
   ]
  },
  {
   "cell_type": "code",
   "execution_count": 160,
   "id": "ca1738a4",
   "metadata": {},
   "outputs": [
    {
     "name": "stdout",
     "output_type": "stream",
     "text": [
      "[1, 2, 3, 4]\n"
     ]
    }
   ],
   "source": [
    "a = [1,4,3,2]\n",
    "a.sort()\n",
    "print(a)"
   ]
  },
  {
   "cell_type": "code",
   "execution_count": 162,
   "id": "cc2fc622",
   "metadata": {},
   "outputs": [
    {
     "name": "stdout",
     "output_type": "stream",
     "text": [
      "[1, 2, 3, 4]\n"
     ]
    }
   ],
   "source": [
    "# Sort\n",
    "a = [1,4,3,2]\n",
    "a2 = a[:]\n",
    "a2.sort()\n",
    "print(a2)"
   ]
  },
  {
   "cell_type": "code",
   "execution_count": 165,
   "id": "04c2d545",
   "metadata": {},
   "outputs": [
    {
     "name": "stdout",
     "output_type": "stream",
     "text": [
      "[4, 3, 2, 1]\n",
      "[1, 4, 3, 2]\n"
     ]
    }
   ],
   "source": [
    "# Sort : Reverse\n",
    "a = [ 1, 4, 3, 2]\n",
    "a2 = sorted(a, reverse = True)\n",
    "print(a2)\n",
    "print(a)"
   ]
  },
  {
   "cell_type": "code",
   "execution_count": 169,
   "id": "5946aecf",
   "metadata": {},
   "outputs": [
    {
     "name": "stdout",
     "output_type": "stream",
     "text": [
      "[1, 2, 3, 4]\n",
      "[1, 2, 3, 4]\n"
     ]
    }
   ],
   "source": [
    "a1 = [1, 2]; a2 = [3, 4]\n",
    "new1 = a1+a2 ; print(new1)\n",
    "a1.extend(a2) ; print(a1)"
   ]
  },
  {
   "cell_type": "code",
   "execution_count": 173,
   "id": "ac8c22a5",
   "metadata": {},
   "outputs": [],
   "source": [
    "my_dic1 = ()"
   ]
  },
  {
   "cell_type": "code",
   "execution_count": 177,
   "id": "db716236",
   "metadata": {},
   "outputs": [
    {
     "ename": "TypeError",
     "evalue": "'tuple' object does not support item assignment",
     "output_type": "error",
     "traceback": [
      "\u001b[1;31m---------------------------------------------------------------------------\u001b[0m",
      "\u001b[1;31mTypeError\u001b[0m                                 Traceback (most recent call last)",
      "\u001b[1;32m<ipython-input-177-71a3548c3152>\u001b[0m in \u001b[0;36m<module>\u001b[1;34m\u001b[0m\n\u001b[1;32m----> 1\u001b[1;33m \u001b[0mmy_dic1\u001b[0m\u001b[1;33m[\u001b[0m\u001b[1;34m\"banana\"\u001b[0m\u001b[1;33m]\u001b[0m\u001b[1;33m=\u001b[0m\u001b[1;34m\"노랗고 달콤한 과일\"\u001b[0m\u001b[1;33m\u001b[0m\u001b[1;33m\u001b[0m\u001b[0m\n\u001b[0m\u001b[0;32m      2\u001b[0m \u001b[0mmy_dic1\u001b[0m\u001b[1;33m\u001b[0m\u001b[1;33m\u001b[0m\u001b[0m\n",
      "\u001b[1;31mTypeError\u001b[0m: 'tuple' object does not support item assignment"
     ]
    }
   ],
   "source": [
    "my_dic1[\"banana\"]=\"노랗고 달콤한 과일\"\n",
    "my_dic1\n"
   ]
  },
  {
   "cell_type": "code",
   "execution_count": 178,
   "id": "4ce73721",
   "metadata": {},
   "outputs": [],
   "source": [
    "s1 = set([1, 2, 3])"
   ]
  },
  {
   "cell_type": "code",
   "execution_count": 179,
   "id": "0d794722",
   "metadata": {},
   "outputs": [
    {
     "data": {
      "text/plain": [
       "{1, 2, 3}"
      ]
     },
     "execution_count": 179,
     "metadata": {},
     "output_type": "execute_result"
    }
   ],
   "source": [
    "s1"
   ]
  },
  {
   "cell_type": "code",
   "execution_count": 182,
   "id": "2e2ce46e",
   "metadata": {},
   "outputs": [
    {
     "data": {
      "text/plain": [
       "[1, 2, 3]"
      ]
     },
     "execution_count": 182,
     "metadata": {},
     "output_type": "execute_result"
    }
   ],
   "source": [
    "s1 = set([1, 2, 3])\n",
    "l1 = list(s1)\n",
    "l1"
   ]
  },
  {
   "cell_type": "code",
   "execution_count": 184,
   "id": "045c413c",
   "metadata": {},
   "outputs": [
    {
     "data": {
      "text/plain": [
       "1"
      ]
     },
     "execution_count": 184,
     "metadata": {},
     "output_type": "execute_result"
    }
   ],
   "source": [
    "l1[0]"
   ]
  },
  {
   "cell_type": "code",
   "execution_count": 186,
   "id": "0b83e2e9",
   "metadata": {},
   "outputs": [],
   "source": [
    "t1 = tuple(s1)"
   ]
  },
  {
   "cell_type": "code",
   "execution_count": 192,
   "id": "11db4db7",
   "metadata": {},
   "outputs": [
    {
     "data": {
      "text/plain": [
       "{4, 5, 6}"
      ]
     },
     "execution_count": 192,
     "metadata": {},
     "output_type": "execute_result"
    }
   ],
   "source": [
    "s1 = set([1, 2, 3, 4, 5, 6])\n",
    "s2 = set([4, 5, 6, 7, 8, 9])\n",
    "s1 & s2"
   ]
  },
  {
   "cell_type": "code",
   "execution_count": 194,
   "id": "b4e036a9",
   "metadata": {},
   "outputs": [
    {
     "data": {
      "text/plain": [
       "{4, 5, 6}"
      ]
     },
     "execution_count": 194,
     "metadata": {},
     "output_type": "execute_result"
    }
   ],
   "source": [
    "s1.intersection(s2)"
   ]
  },
  {
   "cell_type": "code",
   "execution_count": 196,
   "id": "785f9b6e",
   "metadata": {},
   "outputs": [
    {
     "data": {
      "text/plain": [
       "{1, 2, 3, 4, 5, 6, 7, 8, 9}"
      ]
     },
     "execution_count": 196,
     "metadata": {},
     "output_type": "execute_result"
    }
   ],
   "source": [
    "s1 | s2"
   ]
  },
  {
   "cell_type": "markdown",
   "id": "3b5e505d",
   "metadata": {},
   "source": [
    "s1.union(s2)"
   ]
  },
  {
   "cell_type": "code",
   "execution_count": 199,
   "id": "96cbda9f",
   "metadata": {},
   "outputs": [
    {
     "data": {
      "text/plain": [
       "{1, 2, 3}"
      ]
     },
     "execution_count": 199,
     "metadata": {},
     "output_type": "execute_result"
    }
   ],
   "source": [
    "s1-s2"
   ]
  },
  {
   "cell_type": "code",
   "execution_count": 201,
   "id": "ed150ccb",
   "metadata": {},
   "outputs": [
    {
     "data": {
      "text/plain": [
       "{1, 2, 3}"
      ]
     },
     "execution_count": 201,
     "metadata": {},
     "output_type": "execute_result"
    }
   ],
   "source": [
    "s1.difference(s2)"
   ]
  },
  {
   "cell_type": "code",
   "execution_count": 204,
   "id": "6757d1b7",
   "metadata": {},
   "outputs": [
    {
     "data": {
      "text/plain": [
       "{7, 8, 9}"
      ]
     },
     "execution_count": 204,
     "metadata": {},
     "output_type": "execute_result"
    }
   ],
   "source": [
    "s2.difference(s1)"
   ]
  },
  {
   "cell_type": "code",
   "execution_count": 206,
   "id": "be26e88f",
   "metadata": {},
   "outputs": [],
   "source": [
    "s1 = set([1, 2, 3])"
   ]
  },
  {
   "cell_type": "code",
   "execution_count": 208,
   "id": "ac73ed35",
   "metadata": {},
   "outputs": [
    {
     "data": {
      "text/plain": [
       "{1, 2, 3, 4}"
      ]
     },
     "execution_count": 208,
     "metadata": {},
     "output_type": "execute_result"
    }
   ],
   "source": [
    "s1.add(4)\n",
    "s1"
   ]
  },
  {
   "cell_type": "code",
   "execution_count": 212,
   "id": "b1c58773",
   "metadata": {},
   "outputs": [],
   "source": [
    "# Ture  False 는 대소문자 구분 반드시!\n",
    "a = True\n",
    "b = False"
   ]
  },
  {
   "cell_type": "code",
   "execution_count": 215,
   "id": "6bf76c26",
   "metadata": {},
   "outputs": [
    {
     "name": "stdout",
     "output_type": "stream",
     "text": [
      "[1, 2, 3, 4]\n"
     ]
    }
   ],
   "source": [
    "a = [ 1, 4, 3, 2]\n",
    "a2 = a[:]\n",
    "a2.sort()\n",
    "print(a2)"
   ]
  },
  {
   "cell_type": "code",
   "execution_count": 216,
   "id": "075ef4ed",
   "metadata": {},
   "outputs": [
    {
     "ename": "NameError",
     "evalue": "name 'copy' is not defined",
     "output_type": "error",
     "traceback": [
      "\u001b[1;31m---------------------------------------------------------------------------\u001b[0m",
      "\u001b[1;31mNameError\u001b[0m                                 Traceback (most recent call last)",
      "\u001b[1;32m<ipython-input-216-11ee101ee565>\u001b[0m in \u001b[0;36m<module>\u001b[1;34m\u001b[0m\n\u001b[0;32m      1\u001b[0m \u001b[0mb\u001b[0m \u001b[1;33m=\u001b[0m \u001b[1;33m[\u001b[0m \u001b[1;36m1\u001b[0m\u001b[1;33m,\u001b[0m \u001b[1;36m4\u001b[0m\u001b[1;33m,\u001b[0m \u001b[1;36m3\u001b[0m\u001b[1;33m,\u001b[0m \u001b[1;36m2\u001b[0m\u001b[1;33m]\u001b[0m\u001b[1;33m\u001b[0m\u001b[1;33m\u001b[0m\u001b[0m\n\u001b[1;32m----> 2\u001b[1;33m \u001b[0mb2\u001b[0m \u001b[1;33m=\u001b[0m \u001b[0mcopy\u001b[0m\u001b[1;33m(\u001b[0m\u001b[0mb\u001b[0m\u001b[1;33m)\u001b[0m\u001b[1;33m\u001b[0m\u001b[1;33m\u001b[0m\u001b[0m\n\u001b[0m",
      "\u001b[1;31mNameError\u001b[0m: name 'copy' is not defined"
     ]
    }
   ],
   "source": [
    "b = [ 1, 4, 3, 2]\n",
    "b2 = copy(b)"
   ]
  },
  {
   "cell_type": "markdown",
   "id": "b9869983",
   "metadata": {},
   "source": [
    " a = [ 1, 4, 3, 2]\n",
    "a2 = a[:]\n",
    "a2.sort()\n",
    "print(a2)"
   ]
  },
  {
   "cell_type": "code",
   "execution_count": 218,
   "id": "46fd8024",
   "metadata": {},
   "outputs": [
    {
     "name": "stdout",
     "output_type": "stream",
     "text": [
      "참\n"
     ]
    }
   ],
   "source": [
    "if 3<1:\n",
    "    print(\"참\")\n",
    "if 4<10:\n",
    "    print(\"참\")\n"
   ]
  },
  {
   "cell_type": "code",
   "execution_count": 219,
   "id": "9c0384db",
   "metadata": {},
   "outputs": [
    {
     "name": "stdout",
     "output_type": "stream",
     "text": [
      "거짓\n"
     ]
    }
   ],
   "source": [
    "if 3<1:\n",
    "    print(\"참\")\n",
    "else:\n",
    "    print(\"거짓\")\n"
   ]
  },
  {
   "cell_type": "code",
   "execution_count": 223,
   "id": "56576514",
   "metadata": {},
   "outputs": [
    {
     "name": "stdout",
     "output_type": "stream",
     "text": [
      "참\n"
     ]
    }
   ],
   "source": [
    "if True or False:\n",
    "    print(\"참\")"
   ]
  },
  {
   "cell_type": "code",
   "execution_count": 232,
   "id": "18b392ed",
   "metadata": {},
   "outputs": [
    {
     "name": "stdout",
     "output_type": "stream",
     "text": [
      "참\n"
     ]
    }
   ],
   "source": [
    "if True | False:\n",
    "    print(\"참\")"
   ]
  },
  {
   "cell_type": "code",
   "execution_count": 234,
   "id": "661a4337",
   "metadata": {},
   "outputs": [
    {
     "data": {
      "text/plain": [
       "True"
      ]
     },
     "execution_count": 234,
     "metadata": {},
     "output_type": "execute_result"
    }
   ],
   "source": [
    "1 in [1, 2, 3]"
   ]
  },
  {
   "cell_type": "code",
   "execution_count": 236,
   "id": "557bf20c",
   "metadata": {},
   "outputs": [
    {
     "data": {
      "text/plain": [
       "False"
      ]
     },
     "execution_count": 236,
     "metadata": {},
     "output_type": "execute_result"
    }
   ],
   "source": [
    "1 not in [1, 2, 3]"
   ]
  },
  {
   "cell_type": "code",
   "execution_count": 238,
   "id": "03a45688",
   "metadata": {},
   "outputs": [
    {
     "data": {
      "text/plain": [
       "True"
      ]
     },
     "execution_count": 238,
     "metadata": {},
     "output_type": "execute_result"
    }
   ],
   "source": [
    "'a' in ('a', 'b', 'c')"
   ]
  },
  {
   "cell_type": "code",
   "execution_count": 241,
   "id": "3bde32e5",
   "metadata": {},
   "outputs": [
    {
     "data": {
      "text/plain": [
       "True"
      ]
     },
     "execution_count": 241,
     "metadata": {},
     "output_type": "execute_result"
    }
   ],
   "source": [
    "'j' not in 'python'\n"
   ]
  },
  {
   "cell_type": "code",
   "execution_count": 244,
   "id": "1e6dea2b",
   "metadata": {},
   "outputs": [
    {
     "name": "stdout",
     "output_type": "stream",
     "text": [
      "택시를 타고 가라\n"
     ]
    }
   ],
   "source": [
    "money = 2000\n",
    "card = True\n",
    "if money >= 3000 or card:\n",
    "    print(\"택시를 타고 가라\")\n",
    "else:\n",
    "        print(\"걸어 가라\")"
   ]
  },
  {
   "cell_type": "code",
   "execution_count": 247,
   "id": "187c1a04",
   "metadata": {},
   "outputs": [
    {
     "name": "stdout",
     "output_type": "stream",
     "text": [
      "카드를 꺼내라\n"
     ]
    }
   ],
   "source": [
    "# 조건문 중지\n",
    "pocket = ['paper', 'money', 'cellphone']\n",
    "if 'ㅁmoney' in pocket:\n",
    "    pass\n",
    "else:\n",
    "    print(\"카드를 꺼내라\")"
   ]
  },
  {
   "cell_type": "code",
   "execution_count": null,
   "id": "f61aaa99",
   "metadata": {},
   "outputs": [],
   "source": []
  }
 ],
 "metadata": {
  "kernelspec": {
   "display_name": "Python 3",
   "language": "python",
   "name": "python3"
  },
  "language_info": {
   "codemirror_mode": {
    "name": "ipython",
    "version": 3
   },
   "file_extension": ".py",
   "mimetype": "text/x-python",
   "name": "python",
   "nbconvert_exporter": "python",
   "pygments_lexer": "ipython3",
   "version": "3.8.10"
  }
 },
 "nbformat": 4,
 "nbformat_minor": 5
}
