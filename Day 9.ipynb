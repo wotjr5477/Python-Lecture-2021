{
 "cells": [
  {
   "cell_type": "code",
   "execution_count": null,
   "id": "a7382cd5",
   "metadata": {},
   "outputs": [],
   "source": [
    "# 6.1 텍스트 파일에서 데이터를 읽고 쓰는 법 p.237\n",
    "import pandas as pd\n",
    "df1 = pd.read_csv('examples/ex1.csv')\n",
    "df1"
   ]
  },
  {
   "cell_type": "code",
   "execution_count": null,
   "id": "bf0dc0ca",
   "metadata": {},
   "outputs": [],
   "source": [
    "# read_table()에 구분자(separator)를 지정하여 읽어올 수도 있다.\n",
    "pd.read_table('examples/ex1.csv', sep=',')"
   ]
  },
  {
   "cell_type": "code",
   "execution_count": null,
   "id": "307fd94a",
   "metadata": {},
   "outputs": [],
   "source": [
    "#### 헤더 컬럼이 없는 경우\n",
    "pd.read_csv('examples/ex2.csv')"
   ]
  },
  {
   "cell_type": "code",
   "execution_count": null,
   "id": "53ca023f",
   "metadata": {},
   "outputs": [],
   "source": [
    "pd.read_csv('examples/ex2.csv', header=None) # 강제로 만들어줄 수 있다"
   ]
  },
  {
   "cell_type": "code",
   "execution_count": null,
   "id": "61682aee",
   "metadata": {},
   "outputs": [],
   "source": [
    "pd.read_csv('examples/ex2.csv', names=['a', 'b', 'c', 'd']) # names로 지정도 가능"
   ]
  },
  {
   "cell_type": "code",
   "execution_count": null,
   "id": "d57953fa",
   "metadata": {},
   "outputs": [],
   "source": [
    "pd.read_csv('examples/ex2.csv', names=['a','b','c','d', 'message']) # 메세지를 헤더로 지정가능"
   ]
  },
  {
   "cell_type": "code",
   "execution_count": null,
   "id": "71d61e72",
   "metadata": {},
   "outputs": [],
   "source": [
    "names = ['a', 'b', 'c', 'd', 'message']\n",
    "pd.read_csv('examples/ex2.csv', names=names, index_col='message') # meassage이름을 가진 컬럼을 지정해서 색인으로 만들 수 있다."
   ]
  },
  {
   "cell_type": "code",
   "execution_count": null,
   "id": "2f19d9ec",
   "metadata": {},
   "outputs": [],
   "source": [
    "df3 = pd.read_csv('examples/ex5.csv')\n",
    "df3"
   ]
  },
  {
   "cell_type": "code",
   "execution_count": null,
   "id": "815452a0",
   "metadata": {},
   "outputs": [],
   "source": [
    "df5 = pd.read_csv('examples/ex5.csv')\n",
    "df5.to_csv('examples/my_out_of_ex5.csv',\n",
    "            na_rep=\"ToBeReplaced\", index=False,\n",
    "            columns=['a','b','c'])"
   ]
  },
  {
   "cell_type": "code",
   "execution_count": null,
   "id": "d10eb065",
   "metadata": {},
   "outputs": [],
   "source": [
    "# 6.1.1 텍스트 파일 조금씩 읽어오기 p.245\n",
    "# pd.options.display.max_rows = 10  # 옵션 자체를 손보는 방법\n",
    "\n",
    "## chunksize()  ## 여러보각으로 나누어서 읽는 옵션\n",
    "chunker = pd.read_csv('examples/ex6.csv', chunksize=1000)\n",
    "chunker\n",
    "tot[:10]"
   ]
  },
  {
   "cell_type": "code",
   "execution_count": null,
   "id": "dcbc0895",
   "metadata": {},
   "outputs": [],
   "source": [
    "data.to_csv('examples/out.csv')\n",
    "!cat examples/out.csv\n"
   ]
  },
  {
   "cell_type": "code",
   "execution_count": null,
   "id": "45845da2",
   "metadata": {},
   "outputs": [],
   "source": []
  },
  {
   "cell_type": "code",
   "execution_count": null,
   "id": "79f63be6",
   "metadata": {},
   "outputs": [],
   "source": [
    "# Chapter 7 데이터 정제 및 준비 p.269\n",
    "# 웹 크롤링\n",
    "#%pip install lxml\n",
    "#%pip install beautifulsoup4 html5lib\n",
    "from bs4 import BeautifulSoup\n",
    "import requests"
   ]
  },
  {
   "cell_type": "code",
   "execution_count": 19,
   "id": "78b76502",
   "metadata": {},
   "outputs": [
    {
     "data": {
      "text/plain": [
       "<h1 class=\"firstHeading\" id=\"firstHeading\">List of <i>Game of Thrones</i> episodes</h1>"
      ]
     },
     "execution_count": 19,
     "metadata": {},
     "output_type": "execute_result"
    }
   ],
   "source": [
    "#url= \"https://en.wikipedia.org/w/index.php?title=list\"\n",
    "url = \"https://en.wikipedia.org/wiki/List_of_Game_of_Thrones_episodes\"\n",
    "r = requests.get(url)\n",
    "r.text\n",
    "html_soup = BeautifulSoup(r.text, \"html.parser\")\n",
    "found_h1 = html_soup.find(\"h1\")\n",
    "found_h1"
   ]
  },
  {
   "cell_type": "code",
   "execution_count": 9,
   "id": "ba146aee",
   "metadata": {},
   "outputs": [
    {
     "data": {
      "text/plain": [
       "['List of ', <i>Game of Thrones</i>, ' episodes']"
      ]
     },
     "execution_count": 9,
     "metadata": {},
     "output_type": "execute_result"
    }
   ],
   "source": [
    "found_h1.contents"
   ]
  },
  {
   "cell_type": "code",
   "execution_count": 10,
   "id": "4231b5a5",
   "metadata": {},
   "outputs": [
    {
     "data": {
      "text/plain": [
       "'List of Game of Thrones episodes'"
      ]
     },
     "execution_count": 10,
     "metadata": {},
     "output_type": "execute_result"
    }
   ],
   "source": [
    "found_h1.text"
   ]
  },
  {
   "cell_type": "code",
   "execution_count": 11,
   "id": "7a204b71",
   "metadata": {},
   "outputs": [
    {
     "data": {
      "text/plain": [
       "{'id': 'firstHeading', 'class': ['firstHeading']}"
      ]
     },
     "execution_count": 11,
     "metadata": {},
     "output_type": "execute_result"
    }
   ],
   "source": [
    "found_h1.attrs"
   ]
  },
  {
   "cell_type": "code",
   "execution_count": 12,
   "id": "071e0bb8",
   "metadata": {},
   "outputs": [
    {
     "data": {
      "text/plain": [
       "'firstHeading'"
      ]
     },
     "execution_count": 12,
     "metadata": {},
     "output_type": "execute_result"
    }
   ],
   "source": [
    "found_h1.attrs[\"id\"]"
   ]
  },
  {
   "cell_type": "code",
   "execution_count": 13,
   "id": "a5e31e41",
   "metadata": {},
   "outputs": [
    {
     "data": {
      "text/plain": [
       "['firstHeading']"
      ]
     },
     "execution_count": 13,
     "metadata": {},
     "output_type": "execute_result"
    }
   ],
   "source": [
    "found_h1.attrs[\"class\"]"
   ]
  },
  {
   "cell_type": "code",
   "execution_count": 14,
   "id": "26ac1739",
   "metadata": {},
   "outputs": [
    {
     "name": "stdout",
     "output_type": "stream",
     "text": [
      "Contents\n",
      "Series overview[edit]\n",
      "Episodes[edit]\n",
      "Specials[edit]\n",
      "Home media release[edit]\n",
      "Ratings[edit]\n",
      "References[edit]\n",
      "External links[edit]\n",
      "Navigation menu\n"
     ]
    }
   ],
   "source": [
    "for found in html_soup.find_all(\"h2\"):\n",
    "    print(found.text)"
   ]
  },
  {
   "cell_type": "code",
   "execution_count": 20,
   "id": "f7ece890",
   "metadata": {},
   "outputs": [],
   "source": [
    "episodes=[]\n",
    "ep_tables = html_soup.find_all(\"table\",\n",
    "                              class_=\"wikitable plainrowheaders wikiepisodetable\")"
   ]
  },
  {
   "cell_type": "code",
   "execution_count": 26,
   "id": "ee909b4b",
   "metadata": {},
   "outputs": [
    {
     "name": "stdout",
     "output_type": "stream",
     "text": [
      "{'No.overall': '1', 'No. inseason': '1', 'Title': '\"Winter Is Coming\"', 'Directed by': 'Tim Van Patten', 'Written by': 'David Benioff & D. B. Weiss', 'Original air date\\u200a[20]': 'April\\xa017,\\xa02011\\xa0(2011-04-17)', 'U.S. viewers(millions)': '2.22[21]'}\n",
      "{'No.overall': '2', 'No. inseason': '2', 'Title': '\"The Kingsroad\"', 'Directed by': 'Tim Van Patten', 'Written by': 'David Benioff & D. B. Weiss', 'Original air date\\u200a[20]': 'April\\xa024,\\xa02011\\xa0(2011-04-24)', 'U.S. viewers(millions)': '2.20[22]'}\n",
      "{'No.overall': '3', 'No. inseason': '3', 'Title': '\"Lord Snow\"', 'Directed by': 'Brian Kirk', 'Written by': 'David Benioff & D. B. Weiss', 'Original air date\\u200a[20]': 'May\\xa01,\\xa02011\\xa0(2011-05-01)', 'U.S. viewers(millions)': '2.44[23]'}\n",
      "{'No.overall': '4', 'No. inseason': '4', 'Title': '\"Cripples, Bastards, and Broken Things\"', 'Directed by': 'Brian Kirk', 'Written by': 'Bryan Cogman', 'Original air date\\u200a[20]': 'May\\xa08,\\xa02011\\xa0(2011-05-08)', 'U.S. viewers(millions)': '2.45[24]'}\n",
      "{'No.overall': '5', 'No. inseason': '5', 'Title': '\"The Wolf and the Lion\"', 'Directed by': 'Brian Kirk', 'Written by': 'David Benioff & D. B. Weiss', 'Original air date\\u200a[20]': 'May\\xa015,\\xa02011\\xa0(2011-05-15)', 'U.S. viewers(millions)': '2.58[25]'}\n",
      "{'No.overall': '6', 'No. inseason': '6', 'Title': '\"A Golden Crown\"', 'Directed by': 'Daniel Minahan', 'Written by': 'Story by\\u200a: David Benioff & D. B. WeissTeleplay by\\u200a: Jane Espenson and David Benioff & D. B. Weiss', 'Original air date\\u200a[20]': 'May\\xa022,\\xa02011\\xa0(2011-05-22)', 'U.S. viewers(millions)': '2.44[26]'}\n",
      "{'No.overall': '7', 'No. inseason': '7', 'Title': '\"You Win or You Die\"', 'Directed by': 'Daniel Minahan', 'Written by': 'David Benioff & D. B. Weiss', 'Original air date\\u200a[20]': 'May\\xa029,\\xa02011\\xa0(2011-05-29)', 'U.S. viewers(millions)': '2.40[27]'}\n",
      "{'No.overall': '8', 'No. inseason': '8', 'Title': '\"The Pointy End\"', 'Directed by': 'Daniel Minahan', 'Written by': 'George R. R. Martin', 'Original air date\\u200a[20]': 'June\\xa05,\\xa02011\\xa0(2011-06-05)', 'U.S. viewers(millions)': '2.72[28]'}\n",
      "{'No.overall': '9', 'No. inseason': '9', 'Title': '\"Baelor\"', 'Directed by': 'Alan Taylor', 'Written by': 'David Benioff & D. B. Weiss', 'Original air date\\u200a[20]': 'June\\xa012,\\xa02011\\xa0(2011-06-12)', 'U.S. viewers(millions)': '2.66[29]'}\n",
      "{'No.overall': '10', 'No. inseason': '10', 'Title': '\"Fire and Blood\"', 'Directed by': 'Alan Taylor', 'Written by': 'David Benioff & D. B. Weiss', 'Original air date\\u200a[20]': 'June\\xa019,\\xa02011\\xa0(2011-06-19)', 'U.S. viewers(millions)': '3.04[30]'}\n",
      "{'No.overall': '11', 'No. inseason': '1', 'Title': '\"The North Remembers\"', 'Directed by': 'Alan Taylor', 'Written by': 'David Benioff & D. B. Weiss', 'Original air date\\u200a[20]': 'April\\xa01,\\xa02012\\xa0(2012-04-01)', 'U.S. viewers(millions)': '3.86[31]'}\n",
      "{'No.overall': '12', 'No. inseason': '2', 'Title': '\"The Night Lands\"', 'Directed by': 'Alan Taylor', 'Written by': 'David Benioff & D. B. Weiss', 'Original air date\\u200a[20]': 'April\\xa08,\\xa02012\\xa0(2012-04-08)', 'U.S. viewers(millions)': '3.76[32]'}\n",
      "{'No.overall': '13', 'No. inseason': '3', 'Title': '\"What Is Dead May Never Die\"', 'Directed by': 'Alik Sakharov', 'Written by': 'Bryan Cogman', 'Original air date\\u200a[20]': 'April\\xa015,\\xa02012\\xa0(2012-04-15)', 'U.S. viewers(millions)': '3.77[33]'}\n",
      "{'No.overall': '14', 'No. inseason': '4', 'Title': '\"Garden of Bones\"', 'Directed by': 'David Petrarca', 'Written by': 'Vanessa Taylor', 'Original air date\\u200a[20]': 'April\\xa022,\\xa02012\\xa0(2012-04-22)', 'U.S. viewers(millions)': '3.65[34]'}\n",
      "{'No.overall': '15', 'No. inseason': '5', 'Title': '\"The Ghost of Harrenhal\"', 'Directed by': 'David Petrarca', 'Written by': 'David Benioff & D. B. Weiss', 'Original air date\\u200a[20]': 'April\\xa029,\\xa02012\\xa0(2012-04-29)', 'U.S. viewers(millions)': '3.90[35]'}\n",
      "{'No.overall': '16', 'No. inseason': '6', 'Title': '\"The Old Gods and the New\"', 'Directed by': 'David Nutter', 'Written by': 'Vanessa Taylor', 'Original air date\\u200a[20]': 'May\\xa06,\\xa02012\\xa0(2012-05-06)', 'U.S. viewers(millions)': '3.88[36]'}\n",
      "{'No.overall': '17', 'No. inseason': '7', 'Title': '\"A Man Without Honor\"', 'Directed by': 'David Nutter', 'Written by': 'David Benioff & D. B. Weiss', 'Original air date\\u200a[20]': 'May\\xa013,\\xa02012\\xa0(2012-05-13)', 'U.S. viewers(millions)': '3.69[37]'}\n",
      "{'No.overall': '18', 'No. inseason': '8', 'Title': '\"The Prince of Winterfell\"', 'Directed by': 'Alan Taylor', 'Written by': 'David Benioff & D. B. Weiss', 'Original air date\\u200a[20]': 'May\\xa020,\\xa02012\\xa0(2012-05-20)', 'U.S. viewers(millions)': '3.86[38]'}\n",
      "{'No.overall': '19', 'No. inseason': '9', 'Title': '\"Blackwater\"', 'Directed by': 'Neil Marshall', 'Written by': 'George R. R. Martin', 'Original air date\\u200a[20]': 'May\\xa027,\\xa02012\\xa0(2012-05-27)', 'U.S. viewers(millions)': '3.38[39]'}\n",
      "{'No.overall': '20', 'No. inseason': '10', 'Title': '\"Valar Morghulis\"', 'Directed by': 'Alan Taylor', 'Written by': 'David Benioff & D. B. Weiss', 'Original air date\\u200a[20]': 'June\\xa03,\\xa02012\\xa0(2012-06-03)', 'U.S. viewers(millions)': '4.20[40]'}\n",
      "{'No.overall': '21', 'No. inseason': '1', 'Title': '\"Valar Dohaeris\"', 'Directed by': 'Daniel Minahan', 'Written by': 'David Benioff & D. B. Weiss', 'Original air date\\u200a[20]': 'March\\xa031,\\xa02013\\xa0(2013-03-31)', 'U.S. viewers(millions)': '4.37[41]'}\n",
      "{'No.overall': '22', 'No. inseason': '2', 'Title': '\"Dark Wings, Dark Words\"', 'Directed by': 'Daniel Minahan', 'Written by': 'Vanessa Taylor', 'Original air date\\u200a[20]': 'April\\xa07,\\xa02013\\xa0(2013-04-07)', 'U.S. viewers(millions)': '4.27[42]'}\n",
      "{'No.overall': '23', 'No. inseason': '3', 'Title': '\"Walk of Punishment\"', 'Directed by': 'David Benioff', 'Written by': 'David Benioff & D. B. Weiss', 'Original air date\\u200a[20]': 'April\\xa014,\\xa02013\\xa0(2013-04-14)', 'U.S. viewers(millions)': '4.72[43]'}\n",
      "{'No.overall': '24', 'No. inseason': '4', 'Title': '\"And Now His Watch Is Ended\"', 'Directed by': 'Alex Graves', 'Written by': 'David Benioff & D. B. Weiss', 'Original air date\\u200a[20]': 'April\\xa021,\\xa02013\\xa0(2013-04-21)', 'U.S. viewers(millions)': '4.87[44]'}\n",
      "{'No.overall': '25', 'No. inseason': '5', 'Title': '\"Kissed by Fire\"', 'Directed by': 'Alex Graves', 'Written by': 'Bryan Cogman', 'Original air date\\u200a[20]': 'April\\xa028,\\xa02013\\xa0(2013-04-28)', 'U.S. viewers(millions)': '5.35[45]'}\n",
      "{'No.overall': '26', 'No. inseason': '6', 'Title': '\"The Climb\"', 'Directed by': 'Alik Sakharov', 'Written by': 'David Benioff & D. B. Weiss', 'Original air date\\u200a[20]': 'May\\xa05,\\xa02013\\xa0(2013-05-05)', 'U.S. viewers(millions)': '5.50[46]'}\n",
      "{'No.overall': '27', 'No. inseason': '7', 'Title': '\"The Bear and the Maiden Fair\"', 'Directed by': 'Michelle MacLaren', 'Written by': 'George R. R. Martin', 'Original air date\\u200a[20]': 'May\\xa012,\\xa02013\\xa0(2013-05-12)', 'U.S. viewers(millions)': '4.84[47]'}\n",
      "{'No.overall': '28', 'No. inseason': '8', 'Title': '\"Second Sons\"', 'Directed by': 'Michelle MacLaren', 'Written by': 'David Benioff & D. B. Weiss', 'Original air date\\u200a[20]': 'May\\xa019,\\xa02013\\xa0(2013-05-19)', 'U.S. viewers(millions)': '5.13[48]'}\n",
      "{'No.overall': '29', 'No. inseason': '9', 'Title': '\"The Rains of Castamere\"', 'Directed by': 'David Nutter', 'Written by': 'David Benioff & D. B. Weiss', 'Original air date\\u200a[20]': 'June\\xa02,\\xa02013\\xa0(2013-06-02)', 'U.S. viewers(millions)': '5.22[49]'}\n",
      "{'No.overall': '30', 'No. inseason': '10', 'Title': '\"Mhysa\"', 'Directed by': 'David Nutter', 'Written by': 'David Benioff & D. B. Weiss', 'Original air date\\u200a[20]': 'June\\xa09,\\xa02013\\xa0(2013-06-09)', 'U.S. viewers(millions)': '5.39[50]'}\n",
      "{'No.overall': '31', 'No. inseason': '1', 'Title': '\"Two Swords\"', 'Directed by': 'D. B. Weiss', 'Written by': 'David Benioff & D. B. Weiss', 'Original air date\\u200a[20]': 'April\\xa06,\\xa02014\\xa0(2014-04-06)', 'U.S. viewers(millions)': '6.64[51]'}\n",
      "{'No.overall': '32', 'No. inseason': '2', 'Title': '\"The Lion and the Rose\"', 'Directed by': 'Alex Graves', 'Written by': 'George R. R. Martin', 'Original air date\\u200a[20]': 'April\\xa013,\\xa02014\\xa0(2014-04-13)', 'U.S. viewers(millions)': '6.31[52]'}\n",
      "{'No.overall': '33', 'No. inseason': '3', 'Title': '\"Breaker of Chains\"', 'Directed by': 'Alex Graves', 'Written by': 'David Benioff & D. B. Weiss', 'Original air date\\u200a[20]': 'April\\xa020,\\xa02014\\xa0(2014-04-20)', 'U.S. viewers(millions)': '6.59[53]'}\n",
      "{'No.overall': '34', 'No. inseason': '4', 'Title': '\"Oathkeeper\"', 'Directed by': 'Michelle MacLaren', 'Written by': 'Bryan Cogman', 'Original air date\\u200a[20]': 'April\\xa027,\\xa02014\\xa0(2014-04-27)', 'U.S. viewers(millions)': '6.95[54]'}\n",
      "{'No.overall': '35', 'No. inseason': '5', 'Title': '\"First of His Name\"', 'Directed by': 'Michelle MacLaren', 'Written by': 'David Benioff & D. B. Weiss', 'Original air date\\u200a[20]': 'May\\xa04,\\xa02014\\xa0(2014-05-04)', 'U.S. viewers(millions)': '7.16[55]'}\n",
      "{'No.overall': '36', 'No. inseason': '6', 'Title': '\"The Laws of Gods and Men\"', 'Directed by': 'Alik Sakharov', 'Written by': 'Bryan Cogman', 'Original air date\\u200a[20]': 'May\\xa011,\\xa02014\\xa0(2014-05-11)', 'U.S. viewers(millions)': '6.40[56]'}\n",
      "{'No.overall': '37', 'No. inseason': '7', 'Title': '\"Mockingbird\"', 'Directed by': 'Alik Sakharov', 'Written by': 'David Benioff & D. B. Weiss', 'Original air date\\u200a[20]': 'May\\xa018,\\xa02014\\xa0(2014-05-18)', 'U.S. viewers(millions)': '7.20[57]'}\n",
      "{'No.overall': '38', 'No. inseason': '8', 'Title': '\"The Mountain and the Viper\"', 'Directed by': 'Alex Graves', 'Written by': 'David Benioff & D. B. Weiss', 'Original air date\\u200a[20]': 'June\\xa01,\\xa02014\\xa0(2014-06-01)', 'U.S. viewers(millions)': '7.17[58]'}\n",
      "{'No.overall': '39', 'No. inseason': '9', 'Title': '\"The Watchers on the Wall\"', 'Directed by': 'Neil Marshall', 'Written by': 'David Benioff & D. B. Weiss', 'Original air date\\u200a[20]': 'June\\xa08,\\xa02014\\xa0(2014-06-08)', 'U.S. viewers(millions)': '6.95[59]'}\n",
      "{'No.overall': '40', 'No. inseason': '10', 'Title': '\"The Children\"', 'Directed by': 'Alex Graves', 'Written by': 'David Benioff & D. B. Weiss', 'Original air date\\u200a[20]': 'June\\xa015,\\xa02014\\xa0(2014-06-15)', 'U.S. viewers(millions)': '7.09[60]'}\n",
      "{'No.overall': '41', 'No. inseason': '1', 'Title': '\"The Wars to Come\"', 'Directed by': 'Michael Slovis', 'Written by': 'David Benioff & D. B. Weiss', 'Original air date\\u200a[20]': 'April\\xa012,\\xa02015\\xa0(2015-04-12)', 'U.S. viewers(millions)': '8.00[61]'}\n",
      "{'No.overall': '42', 'No. inseason': '2', 'Title': '\"The House of Black and White\"', 'Directed by': 'Michael Slovis', 'Written by': 'David Benioff & D. B. Weiss', 'Original air date\\u200a[20]': 'April\\xa019,\\xa02015\\xa0(2015-04-19)', 'U.S. viewers(millions)': '6.81[62]'}\n",
      "{'No.overall': '43', 'No. inseason': '3', 'Title': '\"High Sparrow\"', 'Directed by': 'Mark Mylod', 'Written by': 'David Benioff & D. B. Weiss', 'Original air date\\u200a[20]': 'April\\xa026,\\xa02015\\xa0(2015-04-26)', 'U.S. viewers(millions)': '6.71[63]'}\n",
      "{'No.overall': '44', 'No. inseason': '4', 'Title': '\"Sons of the Harpy\"', 'Directed by': 'Mark Mylod', 'Written by': 'Dave Hill', 'Original air date\\u200a[20]': 'May\\xa03,\\xa02015\\xa0(2015-05-03)', 'U.S. viewers(millions)': '6.82[64]'}\n",
      "{'No.overall': '45', 'No. inseason': '5', 'Title': '\"Kill the Boy\"', 'Directed by': 'Jeremy Podeswa', 'Written by': 'Bryan Cogman', 'Original air date\\u200a[20]': 'May\\xa010,\\xa02015\\xa0(2015-05-10)', 'U.S. viewers(millions)': '6.56[65]'}\n",
      "{'No.overall': '46', 'No. inseason': '6', 'Title': '\"Unbowed, Unbent, Unbroken\"', 'Directed by': 'Jeremy Podeswa', 'Written by': 'Bryan Cogman', 'Original air date\\u200a[20]': 'May\\xa017,\\xa02015\\xa0(2015-05-17)', 'U.S. viewers(millions)': '6.24[66]'}\n",
      "{'No.overall': '47', 'No. inseason': '7', 'Title': '\"The Gift\"', 'Directed by': 'Miguel Sapochnik', 'Written by': 'David Benioff & D. B. Weiss', 'Original air date\\u200a[20]': 'May\\xa024,\\xa02015\\xa0(2015-05-24)', 'U.S. viewers(millions)': '5.40[67]'}\n",
      "{'No.overall': '48', 'No. inseason': '8', 'Title': '\"Hardhome\"', 'Directed by': 'Miguel Sapochnik', 'Written by': 'David Benioff & D. B. Weiss', 'Original air date\\u200a[20]': 'May\\xa031,\\xa02015\\xa0(2015-05-31)', 'U.S. viewers(millions)': '7.01[68]'}\n",
      "{'No.overall': '49', 'No. inseason': '9', 'Title': '\"The Dance of Dragons\"', 'Directed by': 'David Nutter', 'Written by': 'David Benioff & D. B. Weiss', 'Original air date\\u200a[20]': 'June\\xa07,\\xa02015\\xa0(2015-06-07)', 'U.S. viewers(millions)': '7.14[69]'}\n",
      "{'No.overall': '50', 'No. inseason': '10', 'Title': '\"Mother\\'s Mercy\"', 'Directed by': 'David Nutter', 'Written by': 'David Benioff & D. B. Weiss', 'Original air date\\u200a[20]': 'June\\xa014,\\xa02015\\xa0(2015-06-14)', 'U.S. viewers(millions)': '8.11[70]'}\n",
      "{'No.overall': '51', 'No. inseason': '1', 'Title': '\"The Red Woman\"', 'Directed by': 'Jeremy Podeswa', 'Written by': 'David Benioff & D. B. Weiss', 'Original air date\\u200a[20]': 'April\\xa024,\\xa02016\\xa0(2016-04-24)', 'U.S. viewers(millions)': '7.94[71]'}\n",
      "{'No.overall': '52', 'No. inseason': '2', 'Title': '\"Home\"', 'Directed by': 'Jeremy Podeswa', 'Written by': 'Dave Hill', 'Original air date\\u200a[20]': 'May\\xa01,\\xa02016\\xa0(2016-05-01)', 'U.S. viewers(millions)': '7.29[72]'}\n",
      "{'No.overall': '53', 'No. inseason': '3', 'Title': '\"Oathbreaker\"', 'Directed by': 'Daniel Sackheim', 'Written by': 'David Benioff & D. B. Weiss', 'Original air date\\u200a[20]': 'May\\xa08,\\xa02016\\xa0(2016-05-08)', 'U.S. viewers(millions)': '7.28[73]'}\n",
      "{'No.overall': '54', 'No. inseason': '4', 'Title': '\"Book of the Stranger\"', 'Directed by': 'Daniel Sackheim', 'Written by': 'David Benioff & D. B. Weiss', 'Original air date\\u200a[20]': 'May\\xa015,\\xa02016\\xa0(2016-05-15)', 'U.S. viewers(millions)': '7.82[74]'}\n",
      "{'No.overall': '55', 'No. inseason': '5', 'Title': '\"The Door\"', 'Directed by': 'Jack Bender', 'Written by': 'David Benioff & D. B. Weiss', 'Original air date\\u200a[20]': 'May\\xa022,\\xa02016\\xa0(2016-05-22)', 'U.S. viewers(millions)': '7.89[75]'}\n",
      "{'No.overall': '56', 'No. inseason': '6', 'Title': '\"Blood of My Blood\"', 'Directed by': 'Jack Bender', 'Written by': 'Bryan Cogman', 'Original air date\\u200a[20]': 'May\\xa029,\\xa02016\\xa0(2016-05-29)', 'U.S. viewers(millions)': '6.71[76]'}\n",
      "{'No.overall': '57', 'No. inseason': '7', 'Title': '\"The Broken Man\"', 'Directed by': 'Mark Mylod', 'Written by': 'Bryan Cogman', 'Original air date\\u200a[20]': 'June\\xa05,\\xa02016\\xa0(2016-06-05)', 'U.S. viewers(millions)': '7.80[77]'}\n",
      "{'No.overall': '58', 'No. inseason': '8', 'Title': '\"No One\"', 'Directed by': 'Mark Mylod', 'Written by': 'David Benioff & D. B. Weiss', 'Original air date\\u200a[20]': 'June\\xa012,\\xa02016\\xa0(2016-06-12)', 'U.S. viewers(millions)': '7.60[78]'}\n",
      "{'No.overall': '59', 'No. inseason': '9', 'Title': '\"Battle of the Bastards\"', 'Directed by': 'Miguel Sapochnik', 'Written by': 'David Benioff & D. B. Weiss', 'Original air date\\u200a[20]': 'June\\xa019,\\xa02016\\xa0(2016-06-19)', 'U.S. viewers(millions)': '7.66[79]'}\n",
      "{'No.overall': '60', 'No. inseason': '10', 'Title': '\"The Winds of Winter\"', 'Directed by': 'Miguel Sapochnik', 'Written by': 'David Benioff & D. B. Weiss', 'Original air date\\u200a[20]': 'June\\xa026,\\xa02016\\xa0(2016-06-26)', 'U.S. viewers(millions)': '8.89[80]'}\n",
      "{'No.overall': '61', 'No. inseason': '1', 'Title': '\"Dragonstone\"', 'Directed by': 'Jeremy Podeswa', 'Written by': 'David Benioff & D. B. Weiss', 'Original air date\\u200a[20]': 'July\\xa016,\\xa02017\\xa0(2017-07-16)', 'U.S. viewers(millions)': '10.11[81]'}\n",
      "{'No.overall': '62', 'No. inseason': '2', 'Title': '\"Stormborn\"', 'Directed by': 'Mark Mylod', 'Written by': 'Bryan Cogman', 'Original air date\\u200a[20]': 'July\\xa023,\\xa02017\\xa0(2017-07-23)', 'U.S. viewers(millions)': '9.27[82]'}\n",
      "{'No.overall': '63', 'No. inseason': '3', 'Title': '\"The Queen\\'s Justice\"', 'Directed by': 'Mark Mylod', 'Written by': 'David Benioff & D. B. Weiss', 'Original air date\\u200a[20]': 'July\\xa030,\\xa02017\\xa0(2017-07-30)', 'U.S. viewers(millions)': '9.25[83]'}\n",
      "{'No.overall': '64', 'No. inseason': '4', 'Title': '\"The Spoils of War\"', 'Directed by': 'Matt Shakman', 'Written by': 'David Benioff & D. B. Weiss', 'Original air date\\u200a[20]': 'August\\xa06,\\xa02017\\xa0(2017-08-06)', 'U.S. viewers(millions)': '10.17[84]'}\n",
      "{'No.overall': '65', 'No. inseason': '5', 'Title': '\"Eastwatch\"', 'Directed by': 'Matt Shakman', 'Written by': 'Dave Hill', 'Original air date\\u200a[20]': 'August\\xa013,\\xa02017\\xa0(2017-08-13)', 'U.S. viewers(millions)': '10.72[85]'}\n",
      "{'No.overall': '66', 'No. inseason': '6', 'Title': '\"Beyond the Wall\"', 'Directed by': 'Alan Taylor', 'Written by': 'David Benioff & D. B. Weiss', 'Original air date\\u200a[20]': 'August\\xa020,\\xa02017\\xa0(2017-08-20)', 'U.S. viewers(millions)': '10.24[86]'}\n",
      "{'No.overall': '67', 'No. inseason': '7', 'Title': '\"The Dragon and the Wolf\"', 'Directed by': 'Jeremy Podeswa', 'Written by': 'David Benioff & D. B. Weiss', 'Original air date\\u200a[20]': 'August\\xa027,\\xa02017\\xa0(2017-08-27)', 'U.S. viewers(millions)': '12.07[87]'}\n",
      "{'No.overall': '68', 'No. inseason': '1', 'Title': '\"Winterfell\"', 'Directed by': 'David Nutter', 'Written by': 'Dave Hill', 'Original air date\\u200a[20]': 'April\\xa014,\\xa02019\\xa0(2019-04-14)', 'U.S. viewers(millions)': '11.76[88]'}\n",
      "{'No.overall': '69', 'No. inseason': '2', 'Title': '\"A Knight of the Seven Kingdoms\"', 'Directed by': 'David Nutter', 'Written by': 'Bryan Cogman', 'Original air date\\u200a[20]': 'April\\xa021,\\xa02019\\xa0(2019-04-21)', 'U.S. viewers(millions)': '10.29[89]'}\n",
      "{'No.overall': '70', 'No. inseason': '3', 'Title': '\"The Long Night\"', 'Directed by': 'Miguel Sapochnik', 'Written by': 'David Benioff & D. B. Weiss', 'Original air date\\u200a[20]': 'April\\xa028,\\xa02019\\xa0(2019-04-28)', 'U.S. viewers(millions)': '12.02[90]'}\n",
      "{'No.overall': '71', 'No. inseason': '4', 'Title': '\"The Last of the Starks\"', 'Directed by': 'David Nutter', 'Written by': 'David Benioff & D. B. Weiss', 'Original air date\\u200a[20]': 'May\\xa05,\\xa02019\\xa0(2019-05-05)', 'U.S. viewers(millions)': '11.80[91]'}\n",
      "{'No.overall': '72', 'No. inseason': '5', 'Title': '\"The Bells\"', 'Directed by': 'Miguel Sapochnik', 'Written by': 'David Benioff & D. B. Weiss', 'Original air date\\u200a[20]': 'May\\xa012,\\xa02019\\xa0(2019-05-12)', 'U.S. viewers(millions)': '12.48[92]'}\n",
      "{'No.overall': '73', 'No. inseason': '6', 'Title': '\"The Iron Throne\"', 'Directed by': 'David Benioff & D. B. Weiss', 'Written by': 'David Benioff & D. B. Weiss', 'Original air date\\u200a[20]': 'May\\xa019,\\xa02019\\xa0(2019-05-19)', 'U.S. viewers(millions)': '13.61[93]'}\n",
      "{'No.': '1', 'Title': 'Game of Thrones: A Day in the Life', 'Original air date': 'February\\xa08,\\xa02015\\xa0(2015-02-08)', 'U.S. viewers(millions)': 'N/A'}\n",
      "{'No.': '\\nA half-hour documentary that covered one day of production of season 5 on three sets in Belfast, Dubrovnik and Osuna from the viewpoint of key crew members.[94]'}\n",
      "{'No.': '2', 'Title': 'Game of Thrones: The Last Watch', 'Original air date': 'May\\xa026,\\xa02019\\xa0(2019-05-26)', 'U.S. viewers(millions)': '1.63[96]'}\n",
      "{'No.': '\\nA two-hour documentary which documents the making of season eight.[95]'}\n"
     ]
    }
   ],
   "source": [
    "for table in ep_tables:\n",
    "    headers = []\n",
    "    rows = table.find_all(\"tr\")\n",
    "    for header in table.find(\"tr\").find_all(\"th\"):\n",
    "        headers.append(header.text)\n",
    "\n",
    "    for row in table.find_all(\"tr\")[1:]:\n",
    "        values = []\n",
    "        for col in row.find_all([\"th\", \"td\"]):\n",
    "            values.append(col.text)\n",
    "        if values:\n",
    "            episode_dict = {headers[i]:values[i] for i in range(len(values))}\n",
    "            episodes.append(episode_dict)\n",
    "\n",
    "for episode in episodes:\n",
    "    print(episode)"
   ]
  },
  {
   "cell_type": "code",
   "execution_count": null,
   "id": "360d41b4",
   "metadata": {},
   "outputs": [],
   "source": []
  },
  {
   "cell_type": "code",
   "execution_count": 30,
   "id": "c8f62ebe",
   "metadata": {},
   "outputs": [
    {
     "data": {
      "text/html": [
       "<div>\n",
       "<style scoped>\n",
       "    .dataframe tbody tr th:only-of-type {\n",
       "        vertical-align: middle;\n",
       "    }\n",
       "\n",
       "    .dataframe tbody tr th {\n",
       "        vertical-align: top;\n",
       "    }\n",
       "\n",
       "    .dataframe thead th {\n",
       "        text-align: right;\n",
       "    }\n",
       "</style>\n",
       "<table border=\"1\" class=\"dataframe\">\n",
       "  <thead>\n",
       "    <tr style=\"text-align: right;\">\n",
       "      <th></th>\n",
       "      <th>No.overall</th>\n",
       "      <th>No. inseason</th>\n",
       "      <th>Title</th>\n",
       "      <th>Directed by</th>\n",
       "      <th>Written by</th>\n",
       "      <th>Original air date [20]</th>\n",
       "      <th>U.S. viewers(millions)</th>\n",
       "      <th>No.</th>\n",
       "      <th>Original air date</th>\n",
       "    </tr>\n",
       "  </thead>\n",
       "  <tbody>\n",
       "    <tr>\n",
       "      <th>0</th>\n",
       "      <td>1</td>\n",
       "      <td>1</td>\n",
       "      <td>\"Winter Is Coming\"</td>\n",
       "      <td>Tim Van Patten</td>\n",
       "      <td>David Benioff &amp; D. B. Weiss</td>\n",
       "      <td>April 17, 2011 (2011-04-17)</td>\n",
       "      <td>2.22[21]</td>\n",
       "      <td>NaN</td>\n",
       "      <td>NaN</td>\n",
       "    </tr>\n",
       "    <tr>\n",
       "      <th>1</th>\n",
       "      <td>2</td>\n",
       "      <td>2</td>\n",
       "      <td>\"The Kingsroad\"</td>\n",
       "      <td>Tim Van Patten</td>\n",
       "      <td>David Benioff &amp; D. B. Weiss</td>\n",
       "      <td>April 24, 2011 (2011-04-24)</td>\n",
       "      <td>2.20[22]</td>\n",
       "      <td>NaN</td>\n",
       "      <td>NaN</td>\n",
       "    </tr>\n",
       "    <tr>\n",
       "      <th>2</th>\n",
       "      <td>3</td>\n",
       "      <td>3</td>\n",
       "      <td>\"Lord Snow\"</td>\n",
       "      <td>Brian Kirk</td>\n",
       "      <td>David Benioff &amp; D. B. Weiss</td>\n",
       "      <td>May 1, 2011 (2011-05-01)</td>\n",
       "      <td>2.44[23]</td>\n",
       "      <td>NaN</td>\n",
       "      <td>NaN</td>\n",
       "    </tr>\n",
       "    <tr>\n",
       "      <th>3</th>\n",
       "      <td>4</td>\n",
       "      <td>4</td>\n",
       "      <td>\"Cripples, Bastards, and Broken Things\"</td>\n",
       "      <td>Brian Kirk</td>\n",
       "      <td>Bryan Cogman</td>\n",
       "      <td>May 8, 2011 (2011-05-08)</td>\n",
       "      <td>2.45[24]</td>\n",
       "      <td>NaN</td>\n",
       "      <td>NaN</td>\n",
       "    </tr>\n",
       "    <tr>\n",
       "      <th>4</th>\n",
       "      <td>5</td>\n",
       "      <td>5</td>\n",
       "      <td>\"The Wolf and the Lion\"</td>\n",
       "      <td>Brian Kirk</td>\n",
       "      <td>David Benioff &amp; D. B. Weiss</td>\n",
       "      <td>May 15, 2011 (2011-05-15)</td>\n",
       "      <td>2.58[25]</td>\n",
       "      <td>NaN</td>\n",
       "      <td>NaN</td>\n",
       "    </tr>\n",
       "  </tbody>\n",
       "</table>\n",
       "</div>"
      ],
      "text/plain": [
       "  No.overall No. inseason                                    Title  \\\n",
       "0          1            1                       \"Winter Is Coming\"   \n",
       "1          2            2                          \"The Kingsroad\"   \n",
       "2          3            3                              \"Lord Snow\"   \n",
       "3          4            4  \"Cripples, Bastards, and Broken Things\"   \n",
       "4          5            5                  \"The Wolf and the Lion\"   \n",
       "\n",
       "      Directed by                   Written by       Original air date [20]  \\\n",
       "0  Tim Van Patten  David Benioff & D. B. Weiss  April 17, 2011 (2011-04-17)   \n",
       "1  Tim Van Patten  David Benioff & D. B. Weiss  April 24, 2011 (2011-04-24)   \n",
       "2      Brian Kirk  David Benioff & D. B. Weiss     May 1, 2011 (2011-05-01)   \n",
       "3      Brian Kirk                 Bryan Cogman     May 8, 2011 (2011-05-08)   \n",
       "4      Brian Kirk  David Benioff & D. B. Weiss    May 15, 2011 (2011-05-15)   \n",
       "\n",
       "  U.S. viewers(millions)  No. Original air date  \n",
       "0               2.22[21]  NaN               NaN  \n",
       "1               2.20[22]  NaN               NaN  \n",
       "2               2.44[23]  NaN               NaN  \n",
       "3               2.45[24]  NaN               NaN  \n",
       "4               2.58[25]  NaN               NaN  "
      ]
     },
     "execution_count": 30,
     "metadata": {},
     "output_type": "execute_result"
    }
   ],
   "source": [
    "df = pd.DataFrame(episodes)\n",
    "df.head()"
   ]
  },
  {
   "cell_type": "code",
   "execution_count": null,
   "id": "c3bedb6d",
   "metadata": {},
   "outputs": [],
   "source": []
  },
  {
   "cell_type": "code",
   "execution_count": 31,
   "id": "d1b1b036",
   "metadata": {},
   "outputs": [],
   "source": [
    "# 엑셀 파일 읽기"
   ]
  },
  {
   "cell_type": "code",
   "execution_count": 33,
   "id": "736e5704",
   "metadata": {},
   "outputs": [],
   "source": [
    "xlsx = pd.ExcelFile(\"examples/ex1.xlsx\")"
   ]
  },
  {
   "cell_type": "code",
   "execution_count": 35,
   "id": "640a091a",
   "metadata": {},
   "outputs": [
    {
     "data": {
      "text/html": [
       "<div>\n",
       "<style scoped>\n",
       "    .dataframe tbody tr th:only-of-type {\n",
       "        vertical-align: middle;\n",
       "    }\n",
       "\n",
       "    .dataframe tbody tr th {\n",
       "        vertical-align: top;\n",
       "    }\n",
       "\n",
       "    .dataframe thead th {\n",
       "        text-align: right;\n",
       "    }\n",
       "</style>\n",
       "<table border=\"1\" class=\"dataframe\">\n",
       "  <thead>\n",
       "    <tr style=\"text-align: right;\">\n",
       "      <th></th>\n",
       "      <th>Unnamed: 0</th>\n",
       "      <th>a</th>\n",
       "      <th>b</th>\n",
       "      <th>c</th>\n",
       "      <th>d</th>\n",
       "      <th>message</th>\n",
       "    </tr>\n",
       "  </thead>\n",
       "  <tbody>\n",
       "    <tr>\n",
       "      <th>0</th>\n",
       "      <td>0</td>\n",
       "      <td>1</td>\n",
       "      <td>2</td>\n",
       "      <td>3</td>\n",
       "      <td>4</td>\n",
       "      <td>hello</td>\n",
       "    </tr>\n",
       "    <tr>\n",
       "      <th>1</th>\n",
       "      <td>1</td>\n",
       "      <td>5</td>\n",
       "      <td>6</td>\n",
       "      <td>7</td>\n",
       "      <td>8</td>\n",
       "      <td>world</td>\n",
       "    </tr>\n",
       "    <tr>\n",
       "      <th>2</th>\n",
       "      <td>2</td>\n",
       "      <td>9</td>\n",
       "      <td>10</td>\n",
       "      <td>11</td>\n",
       "      <td>12</td>\n",
       "      <td>foo</td>\n",
       "    </tr>\n",
       "  </tbody>\n",
       "</table>\n",
       "</div>"
      ],
      "text/plain": [
       "   Unnamed: 0  a   b   c   d message\n",
       "0           0  1   2   3   4   hello\n",
       "1           1  5   6   7   8   world\n",
       "2           2  9  10  11  12     foo"
      ]
     },
     "execution_count": 35,
     "metadata": {},
     "output_type": "execute_result"
    }
   ],
   "source": [
    "pd.read_excel(xlsx,\"Sheet1\")"
   ]
  },
  {
   "cell_type": "code",
   "execution_count": 37,
   "id": "ede229eb",
   "metadata": {},
   "outputs": [
    {
     "data": {
      "text/html": [
       "<div>\n",
       "<style scoped>\n",
       "    .dataframe tbody tr th:only-of-type {\n",
       "        vertical-align: middle;\n",
       "    }\n",
       "\n",
       "    .dataframe tbody tr th {\n",
       "        vertical-align: top;\n",
       "    }\n",
       "\n",
       "    .dataframe thead th {\n",
       "        text-align: right;\n",
       "    }\n",
       "</style>\n",
       "<table border=\"1\" class=\"dataframe\">\n",
       "  <thead>\n",
       "    <tr style=\"text-align: right;\">\n",
       "      <th></th>\n",
       "      <th>Unnamed: 0</th>\n",
       "      <th>a</th>\n",
       "      <th>b</th>\n",
       "      <th>c</th>\n",
       "      <th>d</th>\n",
       "      <th>message</th>\n",
       "    </tr>\n",
       "  </thead>\n",
       "  <tbody>\n",
       "    <tr>\n",
       "      <th>0</th>\n",
       "      <td>0</td>\n",
       "      <td>1</td>\n",
       "      <td>2</td>\n",
       "      <td>3</td>\n",
       "      <td>4</td>\n",
       "      <td>hello</td>\n",
       "    </tr>\n",
       "    <tr>\n",
       "      <th>1</th>\n",
       "      <td>1</td>\n",
       "      <td>5</td>\n",
       "      <td>6</td>\n",
       "      <td>7</td>\n",
       "      <td>8</td>\n",
       "      <td>world</td>\n",
       "    </tr>\n",
       "    <tr>\n",
       "      <th>2</th>\n",
       "      <td>2</td>\n",
       "      <td>9</td>\n",
       "      <td>10</td>\n",
       "      <td>11</td>\n",
       "      <td>12</td>\n",
       "      <td>foo</td>\n",
       "    </tr>\n",
       "  </tbody>\n",
       "</table>\n",
       "</div>"
      ],
      "text/plain": [
       "   Unnamed: 0  a   b   c   d message\n",
       "0           0  1   2   3   4   hello\n",
       "1           1  5   6   7   8   world\n",
       "2           2  9  10  11  12     foo"
      ]
     },
     "execution_count": 37,
     "metadata": {},
     "output_type": "execute_result"
    }
   ],
   "source": [
    "frame = pd.read_excel(\"examples/ex1.xlsx\",\"Sheet1\")\n",
    "frame"
   ]
  },
  {
   "cell_type": "code",
   "execution_count": null,
   "id": "fec10cdd",
   "metadata": {},
   "outputs": [],
   "source": []
  },
  {
   "cell_type": "code",
   "execution_count": 38,
   "id": "d77a6343",
   "metadata": {},
   "outputs": [],
   "source": [
    "writer = pd.ExcelWriter(\"examples/ex2.xlsx\")"
   ]
  },
  {
   "cell_type": "code",
   "execution_count": 39,
   "id": "657be5dd",
   "metadata": {},
   "outputs": [],
   "source": [
    "frame.to_excel(writer,\"Sheet1\")"
   ]
  },
  {
   "cell_type": "code",
   "execution_count": 40,
   "id": "8f38cc97",
   "metadata": {},
   "outputs": [],
   "source": [
    "writer.save()"
   ]
  },
  {
   "cell_type": "code",
   "execution_count": null,
   "id": "6abbcce3",
   "metadata": {},
   "outputs": [],
   "source": [
    "\n",
    "# SQL 데이터 베이스와 함꼐 사용하기"
   ]
  },
  {
   "cell_type": "code",
   "execution_count": 64,
   "id": "4a0c4e4c",
   "metadata": {},
   "outputs": [],
   "source": [
    "import sqlite3"
   ]
  },
  {
   "cell_type": "code",
   "execution_count": 65,
   "id": "2c30bd2e",
   "metadata": {},
   "outputs": [
    {
     "ename": "OperationalError",
     "evalue": "table test already exists",
     "output_type": "error",
     "traceback": [
      "\u001b[1;31m---------------------------------------------------------------------------\u001b[0m",
      "\u001b[1;31mOperationalError\u001b[0m                          Traceback (most recent call last)",
      "\u001b[1;32m<ipython-input-65-9608986e2e6c>\u001b[0m in \u001b[0;36m<module>\u001b[1;34m\u001b[0m\n\u001b[0;32m      1\u001b[0m \u001b[0mquery\u001b[0m \u001b[1;33m=\u001b[0m \u001b[1;34m\"CREATE TABLE test(a VARCHAR(20), b VARCHAR(20), c REAL, d INTEGER);\"\u001b[0m\u001b[1;33m\u001b[0m\u001b[1;33m\u001b[0m\u001b[0m\n\u001b[0;32m      2\u001b[0m \u001b[0mcon\u001b[0m \u001b[1;33m=\u001b[0m \u001b[0msqlite3\u001b[0m\u001b[1;33m.\u001b[0m\u001b[0mconnect\u001b[0m\u001b[1;33m(\u001b[0m\u001b[1;34m\"mydata.sqlite\"\u001b[0m\u001b[1;33m)\u001b[0m\u001b[1;33m\u001b[0m\u001b[1;33m\u001b[0m\u001b[0m\n\u001b[1;32m----> 3\u001b[1;33m \u001b[0mcon\u001b[0m\u001b[1;33m.\u001b[0m\u001b[0mexecute\u001b[0m\u001b[1;33m(\u001b[0m\u001b[0mquery\u001b[0m\u001b[1;33m)\u001b[0m\u001b[1;33m\u001b[0m\u001b[1;33m\u001b[0m\u001b[0m\n\u001b[0m",
      "\u001b[1;31mOperationalError\u001b[0m: table test already exists"
     ]
    }
   ],
   "source": [
    "query = \"CREATE TABLE test(a VARCHAR(20), b VARCHAR(20), c REAL, d INTEGER);\"\n",
    "con = sqlite3.connect(\"mydata.sqlite\")\n",
    "con.execute(query)"
   ]
  },
  {
   "cell_type": "code",
   "execution_count": 66,
   "id": "d145ee5b",
   "metadata": {},
   "outputs": [],
   "source": [
    "con.commit()"
   ]
  },
  {
   "cell_type": "code",
   "execution_count": 67,
   "id": "be6f08a4",
   "metadata": {},
   "outputs": [
    {
     "data": {
      "text/plain": [
       "<sqlite3.Cursor at 0x20ea9de6030>"
      ]
     },
     "execution_count": 67,
     "metadata": {},
     "output_type": "execute_result"
    }
   ],
   "source": [
    "data = [(\"atlanta\",\"georgia\",1.25,6), \n",
    "       (\"tallahassee\", \"florida\", 2.6, 3),\n",
    "       (\"sacrament\",\"california\",1.7,5)]\n",
    "stmt = \"INSERT INTO test Values(?,?,?,?)\"\n",
    "con.executemany(stmt,data)"
   ]
  },
  {
   "cell_type": "code",
   "execution_count": 68,
   "id": "011ee42c",
   "metadata": {},
   "outputs": [],
   "source": [
    "con.commit()"
   ]
  },
  {
   "cell_type": "code",
   "execution_count": 70,
   "id": "7a580bab",
   "metadata": {},
   "outputs": [
    {
     "data": {
      "text/plain": [
       "<sqlite3.Cursor at 0x20ea9de6f10>"
      ]
     },
     "execution_count": 70,
     "metadata": {},
     "output_type": "execute_result"
    }
   ],
   "source": [
    "stmt = \"INSERT INTO test Values(?,?,?,?)\"\n",
    "con.executemany(stmt,data)"
   ]
  },
  {
   "cell_type": "code",
   "execution_count": 63,
   "id": "be4f98cd",
   "metadata": {},
   "outputs": [],
   "source": [
    "con.commit()"
   ]
  },
  {
   "cell_type": "code",
   "execution_count": 71,
   "id": "f31a6583",
   "metadata": {},
   "outputs": [],
   "source": [
    "cursor = con.execute(\"select * from test\")"
   ]
  },
  {
   "cell_type": "code",
   "execution_count": 72,
   "id": "9f6e73be",
   "metadata": {},
   "outputs": [],
   "source": [
    "rows = cursor.fetchall()"
   ]
  },
  {
   "cell_type": "code",
   "execution_count": 73,
   "id": "4e38ef3f",
   "metadata": {},
   "outputs": [
    {
     "data": {
      "text/plain": [
       "[('atlanta', 'georgia', 1.25, 6),\n",
       " ('tallahassee', 'florida', 2.6, 3),\n",
       " ('sacrament', 'california', 1.7, 5),\n",
       " ('atlanta', 'georgia', 1.25, 6),\n",
       " ('tallahassee', 'florida', 2.6, 3),\n",
       " ('sacrament', 'california', 1.7, 5),\n",
       " ('atlanta', 'georgia', 1.25, 6),\n",
       " ('tallahassee', 'florida', 2.6, 3),\n",
       " ('sacrament', 'california', 1.7, 5),\n",
       " ('atlanta', 'georgia', 1.25, 6),\n",
       " ('tallahassee', 'florida', 2.6, 3),\n",
       " ('sacrament', 'california', 1.7, 5),\n",
       " ('atlanta', 'georgia', 1.25, 6),\n",
       " ('tallahassee', 'florida', 2.6, 3),\n",
       " ('sacrament', 'california', 1.7, 5),\n",
       " ('atlanta', 'georgia', 1.25, 6),\n",
       " ('tallahassee', 'florida', 2.6, 3),\n",
       " ('sacrament', 'california', 1.7, 5)]"
      ]
     },
     "execution_count": 73,
     "metadata": {},
     "output_type": "execute_result"
    }
   ],
   "source": [
    "rows"
   ]
  },
  {
   "cell_type": "code",
   "execution_count": 74,
   "id": "14307432",
   "metadata": {},
   "outputs": [
    {
     "data": {
      "text/plain": [
       "(('a', None, None, None, None, None, None),\n",
       " ('b', None, None, None, None, None, None),\n",
       " ('c', None, None, None, None, None, None),\n",
       " ('d', None, None, None, None, None, None))"
      ]
     },
     "execution_count": 74,
     "metadata": {},
     "output_type": "execute_result"
    }
   ],
   "source": [
    "cursor.description"
   ]
  },
  {
   "cell_type": "code",
   "execution_count": 75,
   "id": "8a838f33",
   "metadata": {},
   "outputs": [
    {
     "data": {
      "text/html": [
       "<div>\n",
       "<style scoped>\n",
       "    .dataframe tbody tr th:only-of-type {\n",
       "        vertical-align: middle;\n",
       "    }\n",
       "\n",
       "    .dataframe tbody tr th {\n",
       "        vertical-align: top;\n",
       "    }\n",
       "\n",
       "    .dataframe thead th {\n",
       "        text-align: right;\n",
       "    }\n",
       "</style>\n",
       "<table border=\"1\" class=\"dataframe\">\n",
       "  <thead>\n",
       "    <tr style=\"text-align: right;\">\n",
       "      <th></th>\n",
       "      <th>a</th>\n",
       "      <th>b</th>\n",
       "      <th>c</th>\n",
       "      <th>d</th>\n",
       "    </tr>\n",
       "  </thead>\n",
       "  <tbody>\n",
       "    <tr>\n",
       "      <th>0</th>\n",
       "      <td>atlanta</td>\n",
       "      <td>georgia</td>\n",
       "      <td>1.25</td>\n",
       "      <td>6</td>\n",
       "    </tr>\n",
       "    <tr>\n",
       "      <th>1</th>\n",
       "      <td>tallahassee</td>\n",
       "      <td>florida</td>\n",
       "      <td>2.60</td>\n",
       "      <td>3</td>\n",
       "    </tr>\n",
       "    <tr>\n",
       "      <th>2</th>\n",
       "      <td>sacrament</td>\n",
       "      <td>california</td>\n",
       "      <td>1.70</td>\n",
       "      <td>5</td>\n",
       "    </tr>\n",
       "    <tr>\n",
       "      <th>3</th>\n",
       "      <td>atlanta</td>\n",
       "      <td>georgia</td>\n",
       "      <td>1.25</td>\n",
       "      <td>6</td>\n",
       "    </tr>\n",
       "    <tr>\n",
       "      <th>4</th>\n",
       "      <td>tallahassee</td>\n",
       "      <td>florida</td>\n",
       "      <td>2.60</td>\n",
       "      <td>3</td>\n",
       "    </tr>\n",
       "    <tr>\n",
       "      <th>5</th>\n",
       "      <td>sacrament</td>\n",
       "      <td>california</td>\n",
       "      <td>1.70</td>\n",
       "      <td>5</td>\n",
       "    </tr>\n",
       "    <tr>\n",
       "      <th>6</th>\n",
       "      <td>atlanta</td>\n",
       "      <td>georgia</td>\n",
       "      <td>1.25</td>\n",
       "      <td>6</td>\n",
       "    </tr>\n",
       "    <tr>\n",
       "      <th>7</th>\n",
       "      <td>tallahassee</td>\n",
       "      <td>florida</td>\n",
       "      <td>2.60</td>\n",
       "      <td>3</td>\n",
       "    </tr>\n",
       "    <tr>\n",
       "      <th>8</th>\n",
       "      <td>sacrament</td>\n",
       "      <td>california</td>\n",
       "      <td>1.70</td>\n",
       "      <td>5</td>\n",
       "    </tr>\n",
       "    <tr>\n",
       "      <th>9</th>\n",
       "      <td>atlanta</td>\n",
       "      <td>georgia</td>\n",
       "      <td>1.25</td>\n",
       "      <td>6</td>\n",
       "    </tr>\n",
       "    <tr>\n",
       "      <th>10</th>\n",
       "      <td>tallahassee</td>\n",
       "      <td>florida</td>\n",
       "      <td>2.60</td>\n",
       "      <td>3</td>\n",
       "    </tr>\n",
       "    <tr>\n",
       "      <th>11</th>\n",
       "      <td>sacrament</td>\n",
       "      <td>california</td>\n",
       "      <td>1.70</td>\n",
       "      <td>5</td>\n",
       "    </tr>\n",
       "    <tr>\n",
       "      <th>12</th>\n",
       "      <td>atlanta</td>\n",
       "      <td>georgia</td>\n",
       "      <td>1.25</td>\n",
       "      <td>6</td>\n",
       "    </tr>\n",
       "    <tr>\n",
       "      <th>13</th>\n",
       "      <td>tallahassee</td>\n",
       "      <td>florida</td>\n",
       "      <td>2.60</td>\n",
       "      <td>3</td>\n",
       "    </tr>\n",
       "    <tr>\n",
       "      <th>14</th>\n",
       "      <td>sacrament</td>\n",
       "      <td>california</td>\n",
       "      <td>1.70</td>\n",
       "      <td>5</td>\n",
       "    </tr>\n",
       "    <tr>\n",
       "      <th>15</th>\n",
       "      <td>atlanta</td>\n",
       "      <td>georgia</td>\n",
       "      <td>1.25</td>\n",
       "      <td>6</td>\n",
       "    </tr>\n",
       "    <tr>\n",
       "      <th>16</th>\n",
       "      <td>tallahassee</td>\n",
       "      <td>florida</td>\n",
       "      <td>2.60</td>\n",
       "      <td>3</td>\n",
       "    </tr>\n",
       "    <tr>\n",
       "      <th>17</th>\n",
       "      <td>sacrament</td>\n",
       "      <td>california</td>\n",
       "      <td>1.70</td>\n",
       "      <td>5</td>\n",
       "    </tr>\n",
       "  </tbody>\n",
       "</table>\n",
       "</div>"
      ],
      "text/plain": [
       "              a           b     c  d\n",
       "0       atlanta     georgia  1.25  6\n",
       "1   tallahassee     florida  2.60  3\n",
       "2     sacrament  california  1.70  5\n",
       "3       atlanta     georgia  1.25  6\n",
       "4   tallahassee     florida  2.60  3\n",
       "5     sacrament  california  1.70  5\n",
       "6       atlanta     georgia  1.25  6\n",
       "7   tallahassee     florida  2.60  3\n",
       "8     sacrament  california  1.70  5\n",
       "9       atlanta     georgia  1.25  6\n",
       "10  tallahassee     florida  2.60  3\n",
       "11    sacrament  california  1.70  5\n",
       "12      atlanta     georgia  1.25  6\n",
       "13  tallahassee     florida  2.60  3\n",
       "14    sacrament  california  1.70  5\n",
       "15      atlanta     georgia  1.25  6\n",
       "16  tallahassee     florida  2.60  3\n",
       "17    sacrament  california  1.70  5"
      ]
     },
     "execution_count": 75,
     "metadata": {},
     "output_type": "execute_result"
    }
   ],
   "source": [
    "pd.DataFrame(rows, columns=[x[0] for x in cursor.description])"
   ]
  },
  {
   "cell_type": "code",
   "execution_count": null,
   "id": "77ddcf88",
   "metadata": {},
   "outputs": [],
   "source": []
  },
  {
   "cell_type": "code",
   "execution_count": null,
   "id": "73ac80c2",
   "metadata": {},
   "outputs": [],
   "source": []
  },
  {
   "cell_type": "code",
   "execution_count": null,
   "id": "ef8c5a89",
   "metadata": {},
   "outputs": [],
   "source": []
  },
  {
   "cell_type": "code",
   "execution_count": null,
   "id": "a162d5a9",
   "metadata": {},
   "outputs": [],
   "source": []
  },
  {
   "cell_type": "code",
   "execution_count": null,
   "id": "8ebfd650",
   "metadata": {},
   "outputs": [],
   "source": []
  }
 ],
 "metadata": {
  "kernelspec": {
   "display_name": "Python 3",
   "language": "python",
   "name": "python3"
  },
  "language_info": {
   "codemirror_mode": {
    "name": "ipython",
    "version": 3
   },
   "file_extension": ".py",
   "mimetype": "text/x-python",
   "name": "python",
   "nbconvert_exporter": "python",
   "pygments_lexer": "ipython3",
   "version": "3.8.8"
  }
 },
 "nbformat": 4,
 "nbformat_minor": 5
}
