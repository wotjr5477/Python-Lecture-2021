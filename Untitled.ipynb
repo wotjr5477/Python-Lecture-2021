{
 "cells": [
  {
   "cell_type": "code",
   "execution_count": 1,
   "id": "62be8e00",
   "metadata": {},
   "outputs": [],
   "source": [
    "# 연습문제\n",
    "# 간단한 카운트 다운 프로그램 작성\n",
    "# 60 - 0 카운트 후 0이되면 발사 출력"
   ]
  },
  {
   "cell_type": "code",
   "execution_count": 2,
   "id": "80d1e5e1",
   "metadata": {},
   "outputs": [
    {
     "ename": "SyntaxError",
     "evalue": "invalid syntax (<ipython-input-2-ce9ff7c46561>, line 2)",
     "output_type": "error",
     "traceback": [
      "\u001b[1;36m  File \u001b[1;32m\"<ipython-input-2-ce9ff7c46561>\"\u001b[1;36m, line \u001b[1;32m2\u001b[0m\n\u001b[1;33m    while num = 0\u001b[0m\n\u001b[1;37m              ^\u001b[0m\n\u001b[1;31mSyntaxError\u001b[0m\u001b[1;31m:\u001b[0m invalid syntax\n"
     ]
    }
   ],
   "source": [
    "num = 60\n",
    "while num = 0"
   ]
  },
  {
   "cell_type": "code",
   "execution_count": 21,
   "id": "19d94a4b",
   "metadata": {},
   "outputs": [
    {
     "name": "stdout",
     "output_type": "stream",
     "text": [
      "1 2 3 4 5 6 7 8 9 \n",
      "2 4 6 8 10 12 14 16 18 \n",
      "3 6 9 12 15 18 21 24 27 \n",
      "4 8 12 16 20 24 28 32 36 \n",
      "5 10 15 20 25 30 35 40 45 \n",
      "6 12 18 24 30 36 42 48 54 \n",
      "7 14 21 28 35 42 49 56 63 \n",
      "8 16 24 32 40 48 56 64 72 \n",
      "9 18 27 36 45 54 63 72 81 \n"
     ]
    }
   ],
   "source": [
    "for i in range(1,10) :\n",
    "    for j in range(1,10) :\n",
    "        print(i*j, end=\" \")\n",
    "    print()"
   ]
  },
  {
   "cell_type": "code",
   "execution_count": 27,
   "id": "b5c18a16",
   "metadata": {},
   "outputs": [
    {
     "name": "stdout",
     "output_type": "stream",
     "text": [
      "1 2 3 4 5 6 7 8 9 \n",
      "2 4 6 8 10 12 14 16 18 \n",
      "3 6 9 12 15 18 21 24 27 \n",
      "4 8 12 16 20 24 28 32 36 \n",
      "5 10 15 20 25 30 35 40 45 \n",
      "6 12 18 24 30 36 42 48 54 \n",
      "7 14 21 28 35 42 49 56 63 \n",
      "8 16 24 32 40 48 56 64 72 \n",
      "9 18 27 36 45 54 63 72 81 \n"
     ]
    }
   ],
   "source": [
    "i = 1\n",
    "while i <10 :\n",
    "    for j in range(1,10) :\n",
    "        print(i*j, end = \" \")\n",
    "    i = i+1\n",
    "    print()"
   ]
  },
  {
   "cell_type": "code",
   "execution_count": 26,
   "id": "1134be2b",
   "metadata": {},
   "outputs": [
    {
     "name": "stdout",
     "output_type": "stream",
     "text": [
      "\n"
     ]
    }
   ],
   "source": [
    "print()"
   ]
  },
  {
   "cell_type": "code",
   "execution_count": null,
   "id": "a3d0fa6e",
   "metadata": {},
   "outputs": [],
   "source": [
    "# 1*******\n",
    "# 12******\n",
    "# 123*****\n",
    "# 1234****\n",
    "# ...\n",
    "# 1234567\n"
   ]
  },
  {
   "cell_type": "code",
   "execution_count": 69,
   "id": "435b93ef",
   "metadata": {},
   "outputs": [
    {
     "name": "stdout",
     "output_type": "stream",
     "text": [
      "1234567\n",
      "\n",
      "\n",
      "\n",
      "\n",
      "\n"
     ]
    }
   ],
   "source": [
    "#j = list(range(1,8))\n",
    "i = 0\n",
    "j = 1\n",
    "\n",
    "while i < 6:\n",
    "    while j <8 :\n",
    "        print(j, end=\"\")\n",
    "        j = j + 1\n",
    "    print()\n",
    "    i = i +1"
   ]
  },
  {
   "cell_type": "code",
   "execution_count": 112,
   "id": "4f3bad37",
   "metadata": {},
   "outputs": [
    {
     "name": "stdout",
     "output_type": "stream",
     "text": [
      "1 * * * * * * \n",
      "1 2 * * * * * \n",
      "1 2 3 * * * * \n",
      "1 2 3 4 * * * \n",
      "1 2 3 4 5 * * \n",
      "1 2 3 4 5 6 * \n",
      "1 2 3 4 5 6 7 \n"
     ]
    }
   ],
   "source": [
    "for i in range(1, 8): # i = 1,2,3,4,5,6,7\n",
    "    for j in range(1,i+1) :\n",
    "        print(j, end = \" \")\n",
    "    for k in range(1,8-i):\n",
    "        print(\"*\", end=\" \")\n",
    "    print()"
   ]
  },
  {
   "cell_type": "code",
   "execution_count": 115,
   "id": "154d3196",
   "metadata": {},
   "outputs": [
    {
     "name": "stdout",
     "output_type": "stream",
     "text": [
      "13\n",
      "1 * * * * * * * * * * * * \n",
      "1 2 * * * * * * * * * * * \n",
      "1 2 3 * * * * * * * * * * \n",
      "1 2 3 4 * * * * * * * * * \n",
      "1 2 3 4 5 * * * * * * * * \n",
      "1 2 3 4 5 6 * * * * * * * \n",
      "1 2 3 4 5 6 7 * * * * * * \n",
      "1 2 3 4 5 6 7 8 * * * * * \n",
      "1 2 3 4 5 6 7 8 9 * * * * \n",
      "1 2 3 4 5 6 7 8 9 10 * * * \n",
      "1 2 3 4 5 6 7 8 9 10 11 * * \n",
      "1 2 3 4 5 6 7 8 9 10 11 12 * \n",
      "1 2 3 4 5 6 7 8 9 10 11 12 13 \n"
     ]
    }
   ],
   "source": [
    "x = int(input())+1\n",
    "for i in range(1, x): # i = 1,2,3,4,5,6,7\n",
    "    for j in range(1,i+1) :\n",
    "        print(j, end = \" \")\n",
    "    for k in range(1,x-i):\n",
    "        print(\"*\", end = \" \")\n",
    "    print()"
   ]
  },
  {
   "cell_type": "code",
   "execution_count": 94,
   "id": "c2f518da",
   "metadata": {},
   "outputs": [
    {
     "data": {
      "text/plain": [
       "[0, 1, 2, 3, 4, 5, 6, 7]"
      ]
     },
     "execution_count": 94,
     "metadata": {},
     "output_type": "execute_result"
    }
   ],
   "source": [
    "list(range(8))"
   ]
  },
  {
   "cell_type": "code",
   "execution_count": null,
   "id": "dfab05ef",
   "metadata": {},
   "outputs": [],
   "source": []
  },
  {
   "cell_type": "code",
   "execution_count": 86,
   "id": "6a02f785",
   "metadata": {},
   "outputs": [
    {
     "name": "stdout",
     "output_type": "stream",
     "text": [
      "range(1, 8)\n"
     ]
    }
   ],
   "source": [
    "print(range(1,8))"
   ]
  },
  {
   "cell_type": "code",
   "execution_count": 88,
   "id": "628ba6ca",
   "metadata": {},
   "outputs": [
    {
     "name": "stdout",
     "output_type": "stream",
     "text": [
      "[1, 2, 3, 4, 5, 6, 7]\n"
     ]
    }
   ],
   "source": [
    "b = list(range(1,8))\n",
    "print(b)"
   ]
  },
  {
   "cell_type": "code",
   "execution_count": 57,
   "id": "c9e14f9e",
   "metadata": {},
   "outputs": [
    {
     "name": "stdout",
     "output_type": "stream",
     "text": [
      "[1, 2]\n"
     ]
    }
   ],
   "source": [
    "a = [1, 2, 3, 4, 5, 6, 7]\n",
    "print(a[:2])"
   ]
  },
  {
   "cell_type": "code",
   "execution_count": 6,
   "id": "d3e7130d",
   "metadata": {},
   "outputs": [
    {
     "ename": "SyntaxError",
     "evalue": "invalid syntax (<ipython-input-6-27752429326b>, line 1)",
     "output_type": "error",
     "traceback": [
      "\u001b[1;36m  File \u001b[1;32m\"<ipython-input-6-27752429326b>\"\u001b[1;36m, line \u001b[1;32m1\u001b[0m\n\u001b[1;33m    a = [1:10]\u001b[0m\n\u001b[1;37m          ^\u001b[0m\n\u001b[1;31mSyntaxError\u001b[0m\u001b[1;31m:\u001b[0m invalid syntax\n"
     ]
    }
   ],
   "source": [
    "a = [1:10]"
   ]
  },
  {
   "cell_type": "code",
   "execution_count": null,
   "id": "528d8f87",
   "metadata": {},
   "outputs": [],
   "source": []
  },
  {
   "cell_type": "code",
   "execution_count": null,
   "id": "2dbf57fa",
   "metadata": {},
   "outputs": [],
   "source": []
  }
 ],
 "metadata": {
  "kernelspec": {
   "display_name": "Python 3",
   "language": "python",
   "name": "python3"
  },
  "language_info": {
   "codemirror_mode": {
    "name": "ipython",
    "version": 3
   },
   "file_extension": ".py",
   "mimetype": "text/x-python",
   "name": "python",
   "nbconvert_exporter": "python",
   "pygments_lexer": "ipython3",
   "version": "3.8.8"
  }
 },
 "nbformat": 4,
 "nbformat_minor": 5
}
