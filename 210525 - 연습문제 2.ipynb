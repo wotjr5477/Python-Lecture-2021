{
 "cells": [
  {
   "cell_type": "code",
   "execution_count": 50,
   "id": "10abc46e",
   "metadata": {},
   "outputs": [
    {
     "name": "stdout",
     "output_type": "stream",
     "text": [
      " **********\n",
      "  **********\n",
      "   **********\n",
      "    **********\n",
      "     **********\n",
      "      **********\n",
      "       **********\n",
      "        **********\n",
      "         **********\n",
      "          **********\n"
     ]
    }
   ],
   "source": [
    "# 다음과 같이 출력하는 프로그램을 반복문을 이용하여서 작성하시오.\n",
    "# **********\n",
    "#  **********\n",
    "#   **********\n",
    "#    **********\n",
    "#     **********\n",
    "#      **********\n",
    "#       **********\n",
    "\n",
    "for hang in range(1,10+1):\n",
    "    for space in range(1,hang+1):\n",
    "        print(\" \", end=\"\")\n",
    "    for yol in range(1,10+1):\n",
    "        print(\"*\", end=\"\") # 별 출력       \n",
    "    print()\n",
    "\n",
    "#### 정답\n",
    "#for hang in range(10):\n",
    "#    # 빈칸 출력\n",
    "#   for space in range(10):\n",
    "#        print(\" \", end=\"\")\n",
    "    # 별표 출력\n",
    "#    for yol in range(10):\n",
    "#        print(\"*\", end=\"\")\n",
    "#    print()"
   ]
  },
  {
   "cell_type": "code",
   "execution_count": 72,
   "id": "c2162000",
   "metadata": {},
   "outputs": [
    {
     "name": "stdout",
     "output_type": "stream",
     "text": [
      "104\n"
     ]
    }
   ],
   "source": [
    "# 피타고라스 정리는 a*a + b*b = c*c 이다. A, b, c 각각 1이상 100이하의 범위를 갖는\n",
    "# 정수라면 이 들 조합 중 피타고라스의 정리를 만족하는 조합은 몇개나 있는지 답하는\n",
    "# 프로그램을 작성해보자. (단 3중첩 반복문을 사용한다.)\n",
    "#import random\n",
    "#a = random.randrange(1, 100)\n",
    "#b = random.randrange(1, 100)\n",
    "#c = random.randrange(1, 100)\n",
    "#\n",
    "count_up = 0\n",
    "for a in range(1, 101):\n",
    "    for b in range(1, 101):\n",
    "        for c in range(1, 101):\n",
    "             if a*a + b*b == c*c:\n",
    "                  count_up += 1\n",
    "print(count_up)\n",
    "\n",
    "\n"
   ]
  },
  {
   "cell_type": "code",
   "execution_count": 103,
   "id": "edd8ad98",
   "metadata": {},
   "outputs": [
    {
     "name": "stdout",
     "output_type": "stream",
     "text": [
      "720 개\n",
      "720 개\n"
     ]
    }
   ],
   "source": [
    "# 1부터 999까지의 자연수 중에서 각 자리에 있는 숫자가 서로 다른 자연수는 모두 몇 개인가?\n",
    "########### 기본 숫자 자릿 수 구하는 공식\n",
    "# num = 123\n",
    "# d100 = num//100\n",
    "# d10 = (num%100)//10  #23/10 ==> 2.3  23/10 ==> 2\n",
    "# d1 = num%10\n",
    "# print(d100, d10, d1)\n",
    "\n",
    "########### 1번쩨 방식\n",
    "count_up = 0\n",
    "for num in range(1000):\n",
    "    d100 = num // 100\n",
    "    d10 = (num%100) // 10\n",
    "    d1 = num%10\n",
    "    \n",
    "    #if d100 != d10 != d1 : # 이렇게 하면 180으로 오동작\n",
    "    if d100 != d10 and d10 != d1 and d100 != d1:\n",
    "        count_up +=1\n",
    "        #print(d100*100+d10*10+d1)\n",
    "print(count_up,\"개\")\n",
    "        \n",
    "########### 2번쩨 방식    \n",
    "count_up = 0\n",
    "for d100 in range(10):\n",
    "    for d10 in range(10):\n",
    "        for d1 in range(10):\n",
    "            #if d100 != d10 != d1 : # 이렇게 하면 180으로 오동작\n",
    "            if d100 != d10 and d10 != d1 and d100 != d1:\n",
    "                count_up +=1\n",
    "print(count_up, \"개\")\n"
   ]
  },
  {
   "cell_type": "code",
   "execution_count": 132,
   "id": "7bd713b8",
   "metadata": {},
   "outputs": [
    {
     "name": "stdout",
     "output_type": "stream",
     "text": [
      "1\n"
     ]
    }
   ],
   "source": [
    "# 두 자연수 a와 b에 대하여 a(b)는 a를 b번 곱해서 얻은 수이다.\n",
    "# 예를 들어, a(3)은 4x4x4와 같다. 3(2018)의 마지막 자리의 숫자(1의 자리의 수)는\n",
    "# 1인데, 이것을 프로그램으로 계산해서 얻어보자.\n",
    "#a=3\n",
    "#b=2018\n",
    "# def num():\n",
    "#     for i in range(2016):\n",
    "#         num_sum=(3**2016)%10\n",
    "#         return(num_sum)\n",
    "# print(num)\n",
    "num = 1\n",
    "for i in range(2016):\n",
    "    num *=3\n",
    "    if i == 2015:\n",
    "        d1_of_num = num%10\n",
    "print(d1_of_num)"
   ]
  },
  {
   "cell_type": "code",
   "execution_count": 136,
   "id": "a9e9d7e2",
   "metadata": {},
   "outputs": [
    {
     "name": "stdout",
     "output_type": "stream",
     "text": [
      "수 입력 : 5\n",
      "4\n"
     ]
    }
   ],
   "source": [
    "# 어떤 프로 그램은 임의의 자연수에 대해서 그 결과가 1이 나올 떄까지, 아래의 작업을 반복한다.\n",
    "# 자연수가 짝수 이면 2로 나눈다. 홀수 이면 3을 곱하고 1을 더한 후, 2로 나눈다.\n",
    "# 예를 들어, \n",
    "# 자연수 5에서 시작했다면,, 5 -> 8 -> 4 -> 2 -> 1의 순서로 값이 변하며 마지막에 1에 도달하게 된다.\n",
    "# 이 때에 실행한 작업의 획수는 4회 이다.\n",
    "# 그렇다면 682는 위의  작업을 몇 회 실행 했을 때 1에 도달하게 될까?\n",
    "# 프로그램으로 구해 보자.\n",
    "# 답 11회.\n",
    "\n",
    "\n",
    "\n",
    "num = int(input(\"수 입력 : \"))\n",
    "proc_count = 0\n",
    "while True:\n",
    "    if num %2 == 0:\n",
    "        num /= 2\n",
    "    else:\n",
    "        num = 3 * num +1\n",
    "    if num == 1: break        \n",
    "    proc_count+=1\n",
    "print(proc_count)"
   ]
  },
  {
   "cell_type": "code",
   "execution_count": null,
   "id": "0b36e623",
   "metadata": {},
   "outputs": [],
   "source": []
  }
 ],
 "metadata": {
  "kernelspec": {
   "display_name": "Python 3",
   "language": "python",
   "name": "python3"
  },
  "language_info": {
   "codemirror_mode": {
    "name": "ipython",
    "version": 3
   },
   "file_extension": ".py",
   "mimetype": "text/x-python",
   "name": "python",
   "nbconvert_exporter": "python",
   "pygments_lexer": "ipython3",
   "version": "3.8.10"
  }
 },
 "nbformat": 4,
 "nbformat_minor": 5
}
